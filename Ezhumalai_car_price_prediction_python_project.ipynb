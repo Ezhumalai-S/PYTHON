{
  "metadata": {
    "kernelspec": {
      "name": "python",
      "display_name": "Python (Pyodide)",
      "language": "python"
    },
    "language_info": {
      "codemirror_mode": {
        "name": "python",
        "version": 3
      },
      "file_extension": ".py",
      "mimetype": "text/x-python",
      "name": "python",
      "nbconvert_exporter": "python",
      "pygments_lexer": "ipython3",
      "version": "3.8"
    }
  },
  "nbformat_minor": 4,
  "nbformat": 4,
  "cells": [
    {
      "cell_type": "code",
      "source": "import pandas as pd\nimport numpy as np",
      "metadata": {
        "trusted": true
      },
      "outputs": [
        {
          "name": "stderr",
          "text": "<ipython-input-1-baf368f80de7>:1: DeprecationWarning: \nPyarrow will become a required dependency of pandas in the next major release of pandas (pandas 3.0),\n(to allow more performant data types, such as the Arrow string type, and better interoperability with other libraries)\nbut was not found to be installed on your system.\nIf this would cause problems for you,\nplease provide us feedback at https://github.com/pandas-dev/pandas/issues/54466\n        \n  import pandas as pd\n",
          "output_type": "stream"
        }
      ],
      "execution_count": 1
    },
    {
      "cell_type": "code",
      "source": "df=pd.read_csv('Training_Data_Set.csv')",
      "metadata": {
        "trusted": true
      },
      "outputs": [],
      "execution_count": 2
    },
    {
      "cell_type": "code",
      "source": "df",
      "metadata": {
        "trusted": true
      },
      "outputs": [
        {
          "execution_count": 3,
          "output_type": "execute_result",
          "data": {
            "text/plain": "          Id   Maker    model   Location  Distance       Owner Type  \\\n0      25001   skoda  octavia  Ahmedabad        NaN          Second   \n1      25002    fiat    panda  Ahmedabad    27750.0           Third   \n2      25003     bmw       x1  Hyderabad    46000.0           Third   \n3      25004  nissan     juke     Mumbai    43949.0           Third   \n4      25005     bmw       x5     Jaipur    59524.0  Fourth & Above   \n...      ...     ...      ...        ...        ...             ...   \n53510  78511   skoda  octavia      Delhi    29334.0  Fourth & Above   \n53511  78512   skoda  octavia  Bangalore   223631.0  Fourth & Above   \n53512  78513     bmw       x1       Pune    25500.0           Third   \n53513  78514  toyota  avensis     Jaipur  1195500.0           Third   \n53514  78515     bmw       x5      Kochi   142000.0           First   \n\n       manufacture_year  Age of car  engine_displacement  engine_power  \\\n0                  1964          55                 1964         147.0   \n1                  2012           7                 1242          51.0   \n2                  2014           5                 1995         105.0   \n3                  2011           8                 1618         140.0   \n4                  2012           7                 2993         180.0   \n...                 ...         ...                  ...           ...   \n53510              2014           5                 1598          77.0   \n53511              2009          10                 1900          77.0   \n53512              2015           4                 1995         105.0   \n53513              2011           8                11950          93.0   \n53514              2008          11                 2993         173.0   \n\n      body_type  Vroom Audit Rating transmission  door_count  seat_count  \\\n0       compact                   8          man         NaN         NaN   \n1           NaN                   6          man         4.0         4.0   \n2           NaN                   7         auto         4.0         5.0   \n3           NaN                   7          man         4.0         5.0   \n4           NaN                   7         auto         4.0         5.0   \n...         ...                 ...          ...         ...         ...   \n53510       NaN                   4          man         4.0         5.0   \n53511       NaN                   8          man         5.0         5.0   \n53512       NaN                   4         auto         4.0         5.0   \n53513   compact                   5          man         NaN         NaN   \n53514       NaN                   4         auto         5.0         5.0   \n\n      fuel_type       Price  \n0        petrol   543764.25  \n1        petrol   401819.25  \n2        diesel  2392855.50  \n3        petrol   958606.50  \n4        diesel  3085561.50  \n...         ...         ...  \n53510    diesel  1342996.50  \n53511    diesel   510732.75  \n53512    diesel  2008123.50  \n53513    diesel   874352.25  \n53514    diesel  1576610.25  \n\n[53515 rows x 17 columns]",
            "text/html": "<div>\n<style scoped>\n    .dataframe tbody tr th:only-of-type {\n        vertical-align: middle;\n    }\n\n    .dataframe tbody tr th {\n        vertical-align: top;\n    }\n\n    .dataframe thead th {\n        text-align: right;\n    }\n</style>\n<table border=\"1\" class=\"dataframe\">\n  <thead>\n    <tr style=\"text-align: right;\">\n      <th></th>\n      <th>Id</th>\n      <th>Maker</th>\n      <th>model</th>\n      <th>Location</th>\n      <th>Distance</th>\n      <th>Owner Type</th>\n      <th>manufacture_year</th>\n      <th>Age of car</th>\n      <th>engine_displacement</th>\n      <th>engine_power</th>\n      <th>body_type</th>\n      <th>Vroom Audit Rating</th>\n      <th>transmission</th>\n      <th>door_count</th>\n      <th>seat_count</th>\n      <th>fuel_type</th>\n      <th>Price</th>\n    </tr>\n  </thead>\n  <tbody>\n    <tr>\n      <th>0</th>\n      <td>25001</td>\n      <td>skoda</td>\n      <td>octavia</td>\n      <td>Ahmedabad</td>\n      <td>NaN</td>\n      <td>Second</td>\n      <td>1964</td>\n      <td>55</td>\n      <td>1964</td>\n      <td>147.0</td>\n      <td>compact</td>\n      <td>8</td>\n      <td>man</td>\n      <td>NaN</td>\n      <td>NaN</td>\n      <td>petrol</td>\n      <td>543764.25</td>\n    </tr>\n    <tr>\n      <th>1</th>\n      <td>25002</td>\n      <td>fiat</td>\n      <td>panda</td>\n      <td>Ahmedabad</td>\n      <td>27750.0</td>\n      <td>Third</td>\n      <td>2012</td>\n      <td>7</td>\n      <td>1242</td>\n      <td>51.0</td>\n      <td>NaN</td>\n      <td>6</td>\n      <td>man</td>\n      <td>4.0</td>\n      <td>4.0</td>\n      <td>petrol</td>\n      <td>401819.25</td>\n    </tr>\n    <tr>\n      <th>2</th>\n      <td>25003</td>\n      <td>bmw</td>\n      <td>x1</td>\n      <td>Hyderabad</td>\n      <td>46000.0</td>\n      <td>Third</td>\n      <td>2014</td>\n      <td>5</td>\n      <td>1995</td>\n      <td>105.0</td>\n      <td>NaN</td>\n      <td>7</td>\n      <td>auto</td>\n      <td>4.0</td>\n      <td>5.0</td>\n      <td>diesel</td>\n      <td>2392855.50</td>\n    </tr>\n    <tr>\n      <th>3</th>\n      <td>25004</td>\n      <td>nissan</td>\n      <td>juke</td>\n      <td>Mumbai</td>\n      <td>43949.0</td>\n      <td>Third</td>\n      <td>2011</td>\n      <td>8</td>\n      <td>1618</td>\n      <td>140.0</td>\n      <td>NaN</td>\n      <td>7</td>\n      <td>man</td>\n      <td>4.0</td>\n      <td>5.0</td>\n      <td>petrol</td>\n      <td>958606.50</td>\n    </tr>\n    <tr>\n      <th>4</th>\n      <td>25005</td>\n      <td>bmw</td>\n      <td>x5</td>\n      <td>Jaipur</td>\n      <td>59524.0</td>\n      <td>Fourth &amp; Above</td>\n      <td>2012</td>\n      <td>7</td>\n      <td>2993</td>\n      <td>180.0</td>\n      <td>NaN</td>\n      <td>7</td>\n      <td>auto</td>\n      <td>4.0</td>\n      <td>5.0</td>\n      <td>diesel</td>\n      <td>3085561.50</td>\n    </tr>\n    <tr>\n      <th>...</th>\n      <td>...</td>\n      <td>...</td>\n      <td>...</td>\n      <td>...</td>\n      <td>...</td>\n      <td>...</td>\n      <td>...</td>\n      <td>...</td>\n      <td>...</td>\n      <td>...</td>\n      <td>...</td>\n      <td>...</td>\n      <td>...</td>\n      <td>...</td>\n      <td>...</td>\n      <td>...</td>\n      <td>...</td>\n    </tr>\n    <tr>\n      <th>53510</th>\n      <td>78511</td>\n      <td>skoda</td>\n      <td>octavia</td>\n      <td>Delhi</td>\n      <td>29334.0</td>\n      <td>Fourth &amp; Above</td>\n      <td>2014</td>\n      <td>5</td>\n      <td>1598</td>\n      <td>77.0</td>\n      <td>NaN</td>\n      <td>4</td>\n      <td>man</td>\n      <td>4.0</td>\n      <td>5.0</td>\n      <td>diesel</td>\n      <td>1342996.50</td>\n    </tr>\n    <tr>\n      <th>53511</th>\n      <td>78512</td>\n      <td>skoda</td>\n      <td>octavia</td>\n      <td>Bangalore</td>\n      <td>223631.0</td>\n      <td>Fourth &amp; Above</td>\n      <td>2009</td>\n      <td>10</td>\n      <td>1900</td>\n      <td>77.0</td>\n      <td>NaN</td>\n      <td>8</td>\n      <td>man</td>\n      <td>5.0</td>\n      <td>5.0</td>\n      <td>diesel</td>\n      <td>510732.75</td>\n    </tr>\n    <tr>\n      <th>53512</th>\n      <td>78513</td>\n      <td>bmw</td>\n      <td>x1</td>\n      <td>Pune</td>\n      <td>25500.0</td>\n      <td>Third</td>\n      <td>2015</td>\n      <td>4</td>\n      <td>1995</td>\n      <td>105.0</td>\n      <td>NaN</td>\n      <td>4</td>\n      <td>auto</td>\n      <td>4.0</td>\n      <td>5.0</td>\n      <td>diesel</td>\n      <td>2008123.50</td>\n    </tr>\n    <tr>\n      <th>53513</th>\n      <td>78514</td>\n      <td>toyota</td>\n      <td>avensis</td>\n      <td>Jaipur</td>\n      <td>1195500.0</td>\n      <td>Third</td>\n      <td>2011</td>\n      <td>8</td>\n      <td>11950</td>\n      <td>93.0</td>\n      <td>compact</td>\n      <td>5</td>\n      <td>man</td>\n      <td>NaN</td>\n      <td>NaN</td>\n      <td>diesel</td>\n      <td>874352.25</td>\n    </tr>\n    <tr>\n      <th>53514</th>\n      <td>78515</td>\n      <td>bmw</td>\n      <td>x5</td>\n      <td>Kochi</td>\n      <td>142000.0</td>\n      <td>First</td>\n      <td>2008</td>\n      <td>11</td>\n      <td>2993</td>\n      <td>173.0</td>\n      <td>NaN</td>\n      <td>4</td>\n      <td>auto</td>\n      <td>5.0</td>\n      <td>5.0</td>\n      <td>diesel</td>\n      <td>1576610.25</td>\n    </tr>\n  </tbody>\n</table>\n<p>53515 rows × 17 columns</p>\n</div>"
          },
          "metadata": {}
        }
      ],
      "execution_count": 3
    },
    {
      "cell_type": "code",
      "source": "df.isna().sum()",
      "metadata": {
        "trusted": true
      },
      "outputs": [
        {
          "execution_count": 4,
          "output_type": "execute_result",
          "data": {
            "text/plain": "Id                         0\nMaker                      0\nmodel                      0\nLocation                   0\nDistance                1211\nOwner Type                 0\nmanufacture_year           0\nAge of car                 0\nengine_displacement        0\nengine_power            1439\nbody_type              49379\nVroom Audit Rating         0\ntransmission               0\ndoor_count              7534\nseat_count              8511\nfuel_type                  0\nPrice                      0\ndtype: int64"
          },
          "metadata": {}
        }
      ],
      "execution_count": 4
    },
    {
      "cell_type": "code",
      "source": "df.columns",
      "metadata": {
        "trusted": true
      },
      "outputs": [
        {
          "execution_count": 5,
          "output_type": "execute_result",
          "data": {
            "text/plain": "Index(['Id', 'Maker', 'model', 'Location', 'Distance ', 'Owner Type',\n       'manufacture_year', 'Age of car', 'engine_displacement', 'engine_power',\n       'body_type', 'Vroom Audit Rating', 'transmission', 'door_count',\n       'seat_count', 'fuel_type', 'Price'],\n      dtype='object')"
          },
          "metadata": {}
        }
      ],
      "execution_count": 5
    },
    {
      "cell_type": "code",
      "source": "df.drop(columns='body_type',inplace=True)",
      "metadata": {
        "trusted": true
      },
      "outputs": [],
      "execution_count": 6
    },
    {
      "cell_type": "code",
      "source": "df.columns",
      "metadata": {
        "trusted": true
      },
      "outputs": [
        {
          "execution_count": 7,
          "output_type": "execute_result",
          "data": {
            "text/plain": "Index(['Id', 'Maker', 'model', 'Location', 'Distance ', 'Owner Type',\n       'manufacture_year', 'Age of car', 'engine_displacement', 'engine_power',\n       'Vroom Audit Rating', 'transmission', 'door_count', 'seat_count',\n       'fuel_type', 'Price'],\n      dtype='object')"
          },
          "metadata": {}
        }
      ],
      "execution_count": 7
    },
    {
      "cell_type": "code",
      "source": "df.isnull().sum()",
      "metadata": {
        "trusted": true
      },
      "outputs": [
        {
          "execution_count": 8,
          "output_type": "execute_result",
          "data": {
            "text/plain": "Id                        0\nMaker                     0\nmodel                     0\nLocation                  0\nDistance               1211\nOwner Type                0\nmanufacture_year          0\nAge of car                0\nengine_displacement       0\nengine_power           1439\nVroom Audit Rating        0\ntransmission              0\ndoor_count             7534\nseat_count             8511\nfuel_type                 0\nPrice                     0\ndtype: int64"
          },
          "metadata": {}
        }
      ],
      "execution_count": 8
    },
    {
      "cell_type": "code",
      "source": "df['Distance '].mean()",
      "metadata": {
        "trusted": true
      },
      "outputs": [
        {
          "execution_count": 9,
          "output_type": "execute_result",
          "data": {
            "text/plain": "94546.2624464668"
          },
          "metadata": {}
        }
      ],
      "execution_count": 9
    },
    {
      "cell_type": "code",
      "source": "df['Distance '].median()",
      "metadata": {
        "trusted": true
      },
      "outputs": [
        {
          "execution_count": 10,
          "output_type": "execute_result",
          "data": {
            "text/plain": "65520.0"
          },
          "metadata": {}
        }
      ],
      "execution_count": 10
    },
    {
      "cell_type": "code",
      "source": "df['Distance '].fillna(df['Distance '].median(),inplace=True)",
      "metadata": {
        "trusted": true
      },
      "outputs": [
        {
          "name": "stderr",
          "text": "<ipython-input-11-c8a1e5e10749>:1: FutureWarning: A value is trying to be set on a copy of a DataFrame or Series through chained assignment using an inplace method.\nThe behavior will change in pandas 3.0. This inplace method will never work because the intermediate object on which we are setting values always behaves as a copy.\n\nFor example, when doing 'df[col].method(value, inplace=True)', try using 'df.method({col: value}, inplace=True)' or df[col] = df[col].method(value) instead, to perform the operation inplace on the original object.\n\n\n  df['Distance '].fillna(df['Distance '].median(),inplace=True)\n",
          "output_type": "stream"
        }
      ],
      "execution_count": 11
    },
    {
      "cell_type": "code",
      "source": "df['Distance '].isnull().sum()",
      "metadata": {
        "trusted": true
      },
      "outputs": [
        {
          "execution_count": 12,
          "output_type": "execute_result",
          "data": {
            "text/plain": "0"
          },
          "metadata": {}
        }
      ],
      "execution_count": 12
    },
    {
      "cell_type": "code",
      "source": "df['engine_power'].mean()",
      "metadata": {
        "trusted": true
      },
      "outputs": [
        {
          "execution_count": 13,
          "output_type": "execute_result",
          "data": {
            "text/plain": "100.44834472693755"
          },
          "metadata": {}
        }
      ],
      "execution_count": 13
    },
    {
      "cell_type": "code",
      "source": "df['engine_power'].median()",
      "metadata": {
        "trusted": true
      },
      "outputs": [
        {
          "execution_count": 14,
          "output_type": "execute_result",
          "data": {
            "text/plain": "91.0"
          },
          "metadata": {}
        }
      ],
      "execution_count": 14
    },
    {
      "cell_type": "code",
      "source": "df['engine_power'].fillna(df['engine_power'].mean(),inplace=True)",
      "metadata": {
        "trusted": true
      },
      "outputs": [
        {
          "name": "stderr",
          "text": "<ipython-input-15-8456c78bbfc6>:1: FutureWarning: A value is trying to be set on a copy of a DataFrame or Series through chained assignment using an inplace method.\nThe behavior will change in pandas 3.0. This inplace method will never work because the intermediate object on which we are setting values always behaves as a copy.\n\nFor example, when doing 'df[col].method(value, inplace=True)', try using 'df.method({col: value}, inplace=True)' or df[col] = df[col].method(value) instead, to perform the operation inplace on the original object.\n\n\n  df['engine_power'].fillna(df['engine_power'].mean(),inplace=True)\n",
          "output_type": "stream"
        }
      ],
      "execution_count": 15
    },
    {
      "cell_type": "code",
      "source": "df['engine_power'].isnull().sum()",
      "metadata": {
        "trusted": true
      },
      "outputs": [
        {
          "execution_count": 16,
          "output_type": "execute_result",
          "data": {
            "text/plain": "0"
          },
          "metadata": {}
        }
      ],
      "execution_count": 16
    },
    {
      "cell_type": "code",
      "source": "df['door_count'].mean()",
      "metadata": {
        "trusted": true
      },
      "outputs": [
        {
          "execution_count": 17,
          "output_type": "execute_result",
          "data": {
            "text/plain": "3.973010591331202"
          },
          "metadata": {}
        }
      ],
      "execution_count": 17
    },
    {
      "cell_type": "code",
      "source": "df['door_count'].mean()",
      "metadata": {
        "trusted": true
      },
      "outputs": [
        {
          "execution_count": 18,
          "output_type": "execute_result",
          "data": {
            "text/plain": "3.973010591331202"
          },
          "metadata": {}
        }
      ],
      "execution_count": 18
    },
    {
      "cell_type": "code",
      "source": "df['door_count'].fillna(df['door_count'].mean(),inplace=True)",
      "metadata": {
        "trusted": true
      },
      "outputs": [
        {
          "name": "stderr",
          "text": "<ipython-input-19-25d95b3521ce>:1: FutureWarning: A value is trying to be set on a copy of a DataFrame or Series through chained assignment using an inplace method.\nThe behavior will change in pandas 3.0. This inplace method will never work because the intermediate object on which we are setting values always behaves as a copy.\n\nFor example, when doing 'df[col].method(value, inplace=True)', try using 'df.method({col: value}, inplace=True)' or df[col] = df[col].method(value) instead, to perform the operation inplace on the original object.\n\n\n  df['door_count'].fillna(df['door_count'].mean(),inplace=True)\n",
          "output_type": "stream"
        }
      ],
      "execution_count": 19
    },
    {
      "cell_type": "code",
      "source": "df['door_count'].isnull().sum()",
      "metadata": {
        "trusted": true
      },
      "outputs": [
        {
          "execution_count": 20,
          "output_type": "execute_result",
          "data": {
            "text/plain": "0"
          },
          "metadata": {}
        }
      ],
      "execution_count": 20
    },
    {
      "cell_type": "code",
      "source": "df['seat_count'].mean()",
      "metadata": {
        "trusted": true
      },
      "outputs": [
        {
          "execution_count": 21,
          "output_type": "execute_result",
          "data": {
            "text/plain": "4.886099013421029"
          },
          "metadata": {}
        }
      ],
      "execution_count": 21
    },
    {
      "cell_type": "code",
      "source": "df['seat_count'].median()",
      "metadata": {
        "trusted": true
      },
      "outputs": [
        {
          "execution_count": 22,
          "output_type": "execute_result",
          "data": {
            "text/plain": "5.0"
          },
          "metadata": {}
        }
      ],
      "execution_count": 22
    },
    {
      "cell_type": "code",
      "source": "df['seat_count'].fillna(df['seat_count'].mean(),inplace=True)",
      "metadata": {
        "trusted": true
      },
      "outputs": [
        {
          "name": "stderr",
          "text": "<ipython-input-23-fdb626efc852>:1: FutureWarning: A value is trying to be set on a copy of a DataFrame or Series through chained assignment using an inplace method.\nThe behavior will change in pandas 3.0. This inplace method will never work because the intermediate object on which we are setting values always behaves as a copy.\n\nFor example, when doing 'df[col].method(value, inplace=True)', try using 'df.method({col: value}, inplace=True)' or df[col] = df[col].method(value) instead, to perform the operation inplace on the original object.\n\n\n  df['seat_count'].fillna(df['seat_count'].mean(),inplace=True)\n",
          "output_type": "stream"
        }
      ],
      "execution_count": 23
    },
    {
      "cell_type": "code",
      "source": "df['seat_count'].isnull().sum()",
      "metadata": {
        "trusted": true
      },
      "outputs": [
        {
          "execution_count": 24,
          "output_type": "execute_result",
          "data": {
            "text/plain": "0"
          },
          "metadata": {}
        }
      ],
      "execution_count": 24
    },
    {
      "cell_type": "code",
      "source": "df.isnull().sum()",
      "metadata": {
        "trusted": true
      },
      "outputs": [
        {
          "execution_count": 25,
          "output_type": "execute_result",
          "data": {
            "text/plain": "Id                     0\nMaker                  0\nmodel                  0\nLocation               0\nDistance               0\nOwner Type             0\nmanufacture_year       0\nAge of car             0\nengine_displacement    0\nengine_power           0\nVroom Audit Rating     0\ntransmission           0\ndoor_count             0\nseat_count             0\nfuel_type              0\nPrice                  0\ndtype: int64"
          },
          "metadata": {}
        }
      ],
      "execution_count": 25
    },
    {
      "cell_type": "code",
      "source": "df",
      "metadata": {
        "trusted": true
      },
      "outputs": [
        {
          "execution_count": 26,
          "output_type": "execute_result",
          "data": {
            "text/plain": "          Id   Maker    model   Location  Distance       Owner Type  \\\n0      25001   skoda  octavia  Ahmedabad    65520.0          Second   \n1      25002    fiat    panda  Ahmedabad    27750.0           Third   \n2      25003     bmw       x1  Hyderabad    46000.0           Third   \n3      25004  nissan     juke     Mumbai    43949.0           Third   \n4      25005     bmw       x5     Jaipur    59524.0  Fourth & Above   \n...      ...     ...      ...        ...        ...             ...   \n53510  78511   skoda  octavia      Delhi    29334.0  Fourth & Above   \n53511  78512   skoda  octavia  Bangalore   223631.0  Fourth & Above   \n53512  78513     bmw       x1       Pune    25500.0           Third   \n53513  78514  toyota  avensis     Jaipur  1195500.0           Third   \n53514  78515     bmw       x5      Kochi   142000.0           First   \n\n       manufacture_year  Age of car  engine_displacement  engine_power  \\\n0                  1964          55                 1964         147.0   \n1                  2012           7                 1242          51.0   \n2                  2014           5                 1995         105.0   \n3                  2011           8                 1618         140.0   \n4                  2012           7                 2993         180.0   \n...                 ...         ...                  ...           ...   \n53510              2014           5                 1598          77.0   \n53511              2009          10                 1900          77.0   \n53512              2015           4                 1995         105.0   \n53513              2011           8                11950          93.0   \n53514              2008          11                 2993         173.0   \n\n       Vroom Audit Rating transmission  door_count  seat_count fuel_type  \\\n0                       8          man    3.973011    4.886099    petrol   \n1                       6          man    4.000000    4.000000    petrol   \n2                       7         auto    4.000000    5.000000    diesel   \n3                       7          man    4.000000    5.000000    petrol   \n4                       7         auto    4.000000    5.000000    diesel   \n...                   ...          ...         ...         ...       ...   \n53510                   4          man    4.000000    5.000000    diesel   \n53511                   8          man    5.000000    5.000000    diesel   \n53512                   4         auto    4.000000    5.000000    diesel   \n53513                   5          man    3.973011    4.886099    diesel   \n53514                   4         auto    5.000000    5.000000    diesel   \n\n            Price  \n0       543764.25  \n1       401819.25  \n2      2392855.50  \n3       958606.50  \n4      3085561.50  \n...           ...  \n53510  1342996.50  \n53511   510732.75  \n53512  2008123.50  \n53513   874352.25  \n53514  1576610.25  \n\n[53515 rows x 16 columns]",
            "text/html": "<div>\n<style scoped>\n    .dataframe tbody tr th:only-of-type {\n        vertical-align: middle;\n    }\n\n    .dataframe tbody tr th {\n        vertical-align: top;\n    }\n\n    .dataframe thead th {\n        text-align: right;\n    }\n</style>\n<table border=\"1\" class=\"dataframe\">\n  <thead>\n    <tr style=\"text-align: right;\">\n      <th></th>\n      <th>Id</th>\n      <th>Maker</th>\n      <th>model</th>\n      <th>Location</th>\n      <th>Distance</th>\n      <th>Owner Type</th>\n      <th>manufacture_year</th>\n      <th>Age of car</th>\n      <th>engine_displacement</th>\n      <th>engine_power</th>\n      <th>Vroom Audit Rating</th>\n      <th>transmission</th>\n      <th>door_count</th>\n      <th>seat_count</th>\n      <th>fuel_type</th>\n      <th>Price</th>\n    </tr>\n  </thead>\n  <tbody>\n    <tr>\n      <th>0</th>\n      <td>25001</td>\n      <td>skoda</td>\n      <td>octavia</td>\n      <td>Ahmedabad</td>\n      <td>65520.0</td>\n      <td>Second</td>\n      <td>1964</td>\n      <td>55</td>\n      <td>1964</td>\n      <td>147.0</td>\n      <td>8</td>\n      <td>man</td>\n      <td>3.973011</td>\n      <td>4.886099</td>\n      <td>petrol</td>\n      <td>543764.25</td>\n    </tr>\n    <tr>\n      <th>1</th>\n      <td>25002</td>\n      <td>fiat</td>\n      <td>panda</td>\n      <td>Ahmedabad</td>\n      <td>27750.0</td>\n      <td>Third</td>\n      <td>2012</td>\n      <td>7</td>\n      <td>1242</td>\n      <td>51.0</td>\n      <td>6</td>\n      <td>man</td>\n      <td>4.000000</td>\n      <td>4.000000</td>\n      <td>petrol</td>\n      <td>401819.25</td>\n    </tr>\n    <tr>\n      <th>2</th>\n      <td>25003</td>\n      <td>bmw</td>\n      <td>x1</td>\n      <td>Hyderabad</td>\n      <td>46000.0</td>\n      <td>Third</td>\n      <td>2014</td>\n      <td>5</td>\n      <td>1995</td>\n      <td>105.0</td>\n      <td>7</td>\n      <td>auto</td>\n      <td>4.000000</td>\n      <td>5.000000</td>\n      <td>diesel</td>\n      <td>2392855.50</td>\n    </tr>\n    <tr>\n      <th>3</th>\n      <td>25004</td>\n      <td>nissan</td>\n      <td>juke</td>\n      <td>Mumbai</td>\n      <td>43949.0</td>\n      <td>Third</td>\n      <td>2011</td>\n      <td>8</td>\n      <td>1618</td>\n      <td>140.0</td>\n      <td>7</td>\n      <td>man</td>\n      <td>4.000000</td>\n      <td>5.000000</td>\n      <td>petrol</td>\n      <td>958606.50</td>\n    </tr>\n    <tr>\n      <th>4</th>\n      <td>25005</td>\n      <td>bmw</td>\n      <td>x5</td>\n      <td>Jaipur</td>\n      <td>59524.0</td>\n      <td>Fourth &amp; Above</td>\n      <td>2012</td>\n      <td>7</td>\n      <td>2993</td>\n      <td>180.0</td>\n      <td>7</td>\n      <td>auto</td>\n      <td>4.000000</td>\n      <td>5.000000</td>\n      <td>diesel</td>\n      <td>3085561.50</td>\n    </tr>\n    <tr>\n      <th>...</th>\n      <td>...</td>\n      <td>...</td>\n      <td>...</td>\n      <td>...</td>\n      <td>...</td>\n      <td>...</td>\n      <td>...</td>\n      <td>...</td>\n      <td>...</td>\n      <td>...</td>\n      <td>...</td>\n      <td>...</td>\n      <td>...</td>\n      <td>...</td>\n      <td>...</td>\n      <td>...</td>\n    </tr>\n    <tr>\n      <th>53510</th>\n      <td>78511</td>\n      <td>skoda</td>\n      <td>octavia</td>\n      <td>Delhi</td>\n      <td>29334.0</td>\n      <td>Fourth &amp; Above</td>\n      <td>2014</td>\n      <td>5</td>\n      <td>1598</td>\n      <td>77.0</td>\n      <td>4</td>\n      <td>man</td>\n      <td>4.000000</td>\n      <td>5.000000</td>\n      <td>diesel</td>\n      <td>1342996.50</td>\n    </tr>\n    <tr>\n      <th>53511</th>\n      <td>78512</td>\n      <td>skoda</td>\n      <td>octavia</td>\n      <td>Bangalore</td>\n      <td>223631.0</td>\n      <td>Fourth &amp; Above</td>\n      <td>2009</td>\n      <td>10</td>\n      <td>1900</td>\n      <td>77.0</td>\n      <td>8</td>\n      <td>man</td>\n      <td>5.000000</td>\n      <td>5.000000</td>\n      <td>diesel</td>\n      <td>510732.75</td>\n    </tr>\n    <tr>\n      <th>53512</th>\n      <td>78513</td>\n      <td>bmw</td>\n      <td>x1</td>\n      <td>Pune</td>\n      <td>25500.0</td>\n      <td>Third</td>\n      <td>2015</td>\n      <td>4</td>\n      <td>1995</td>\n      <td>105.0</td>\n      <td>4</td>\n      <td>auto</td>\n      <td>4.000000</td>\n      <td>5.000000</td>\n      <td>diesel</td>\n      <td>2008123.50</td>\n    </tr>\n    <tr>\n      <th>53513</th>\n      <td>78514</td>\n      <td>toyota</td>\n      <td>avensis</td>\n      <td>Jaipur</td>\n      <td>1195500.0</td>\n      <td>Third</td>\n      <td>2011</td>\n      <td>8</td>\n      <td>11950</td>\n      <td>93.0</td>\n      <td>5</td>\n      <td>man</td>\n      <td>3.973011</td>\n      <td>4.886099</td>\n      <td>diesel</td>\n      <td>874352.25</td>\n    </tr>\n    <tr>\n      <th>53514</th>\n      <td>78515</td>\n      <td>bmw</td>\n      <td>x5</td>\n      <td>Kochi</td>\n      <td>142000.0</td>\n      <td>First</td>\n      <td>2008</td>\n      <td>11</td>\n      <td>2993</td>\n      <td>173.0</td>\n      <td>4</td>\n      <td>auto</td>\n      <td>5.000000</td>\n      <td>5.000000</td>\n      <td>diesel</td>\n      <td>1576610.25</td>\n    </tr>\n  </tbody>\n</table>\n<p>53515 rows × 16 columns</p>\n</div>"
          },
          "metadata": {}
        }
      ],
      "execution_count": 26
    },
    {
      "cell_type": "code",
      "source": "df.isnull().sum()",
      "metadata": {
        "trusted": true
      },
      "outputs": [
        {
          "execution_count": 27,
          "output_type": "execute_result",
          "data": {
            "text/plain": "Id                     0\nMaker                  0\nmodel                  0\nLocation               0\nDistance               0\nOwner Type             0\nmanufacture_year       0\nAge of car             0\nengine_displacement    0\nengine_power           0\nVroom Audit Rating     0\ntransmission           0\ndoor_count             0\nseat_count             0\nfuel_type              0\nPrice                  0\ndtype: int64"
          },
          "metadata": {}
        }
      ],
      "execution_count": 27
    },
    {
      "cell_type": "code",
      "source": "df.dtypes",
      "metadata": {
        "trusted": true
      },
      "outputs": [
        {
          "execution_count": 28,
          "output_type": "execute_result",
          "data": {
            "text/plain": "Id                       int64\nMaker                   object\nmodel                   object\nLocation                object\nDistance               float64\nOwner Type              object\nmanufacture_year         int64\nAge of car               int64\nengine_displacement      int64\nengine_power           float64\nVroom Audit Rating       int64\ntransmission            object\ndoor_count             float64\nseat_count             float64\nfuel_type               object\nPrice                  float64\ndtype: object"
          },
          "metadata": {}
        }
      ],
      "execution_count": 28
    },
    {
      "cell_type": "code",
      "source": "from sklearn.preprocessing import LabelEncoder\nle=LabelEncoder()",
      "metadata": {
        "trusted": true
      },
      "outputs": [],
      "execution_count": 29
    },
    {
      "cell_type": "code",
      "source": "df['Maker']=le.fit_transform(df['Maker'])",
      "metadata": {
        "trusted": true
      },
      "outputs": [],
      "execution_count": 30
    },
    {
      "cell_type": "code",
      "source": "df['model']=le.fit_transform(df['model'])",
      "metadata": {
        "trusted": true
      },
      "outputs": [],
      "execution_count": 31
    },
    {
      "cell_type": "code",
      "source": "df['Location']=le.fit_transform(df['Location'])\ndf['Location'].dtypes",
      "metadata": {
        "trusted": true
      },
      "outputs": [
        {
          "execution_count": 32,
          "output_type": "execute_result",
          "data": {
            "text/plain": "dtype('int32')"
          },
          "metadata": {}
        }
      ],
      "execution_count": 32
    },
    {
      "cell_type": "code",
      "source": "df['Owner Type']=le.fit_transform(df['Owner Type'])\ndf['Owner Type'].dtypes",
      "metadata": {
        "trusted": true
      },
      "outputs": [
        {
          "execution_count": 33,
          "output_type": "execute_result",
          "data": {
            "text/plain": "dtype('int32')"
          },
          "metadata": {}
        }
      ],
      "execution_count": 33
    },
    {
      "cell_type": "code",
      "source": "df['fuel_type']=le.fit_transform(df['fuel_type'])\ndf['fuel_type'].dtypes",
      "metadata": {
        "trusted": true
      },
      "outputs": [
        {
          "execution_count": 34,
          "output_type": "execute_result",
          "data": {
            "text/plain": "dtype('int32')"
          },
          "metadata": {}
        }
      ],
      "execution_count": 34
    },
    {
      "cell_type": "code",
      "source": "df['transmission']=le.fit_transform(df['transmission'])\ndf['transmission'].dtypes",
      "metadata": {
        "trusted": true
      },
      "outputs": [
        {
          "execution_count": 35,
          "output_type": "execute_result",
          "data": {
            "text/plain": "dtype('int32')"
          },
          "metadata": {}
        }
      ],
      "execution_count": 35
    },
    {
      "cell_type": "code",
      "source": "df.dtypes",
      "metadata": {
        "trusted": true
      },
      "outputs": [
        {
          "execution_count": 36,
          "output_type": "execute_result",
          "data": {
            "text/plain": "Id                       int64\nMaker                    int32\nmodel                    int32\nLocation                 int32\nDistance               float64\nOwner Type               int32\nmanufacture_year         int64\nAge of car               int64\nengine_displacement      int64\nengine_power           float64\nVroom Audit Rating       int64\ntransmission             int32\ndoor_count             float64\nseat_count             float64\nfuel_type                int32\nPrice                  float64\ndtype: object"
          },
          "metadata": {}
        }
      ],
      "execution_count": 36
    },
    {
      "cell_type": "code",
      "source": "import matplotlib.pyplot as plt",
      "metadata": {
        "trusted": true
      },
      "outputs": [],
      "execution_count": 37
    },
    {
      "cell_type": "code",
      "source": "df.boxplot()\nplt.show()",
      "metadata": {
        "trusted": true
      },
      "outputs": [
        {
          "output_type": "display_data",
          "data": {
            "text/plain": "<Figure size 640x480 with 1 Axes>",
            "image/png": "[encoded data removed]"
          },
          "metadata": {}
        }
      ],
      "execution_count": 38
    },
    {
      "cell_type": "code",
      "source": "z=(df-df.mean())/df.std()",
      "metadata": {
        "trusted": true
      },
      "outputs": [],
      "execution_count": 39
    },
    {
      "cell_type": "code",
      "source": "z",
      "metadata": {
        "trusted": true
      },
      "outputs": [
        {
          "execution_count": 40,
          "output_type": "execute_result",
          "data": {
            "text/plain": "             Id     Maker     model  Location  Distance   Owner Type  \\\n0     -1.732002  0.670435 -0.525374 -1.586813  -0.104123    0.447061   \n1     -1.731938 -0.895159 -0.363218 -1.586813  -0.242749    1.340899   \n2     -1.731873 -1.286557  1.096184 -0.003090  -0.175767    1.340899   \n3     -1.731808  0.279036 -0.849686  1.263889  -0.183294    1.340899   \n4     -1.731743 -1.286557  1.420496  0.313655  -0.126130   -0.446777   \n...         ...       ...       ...       ...        ...         ...   \n53510  1.731743  0.670435 -0.525374 -0.319834  -0.236935   -0.446777   \n53511  1.731808  0.670435 -0.525374 -1.270068   0.476186   -0.446777   \n53512  1.731873 -1.286557  1.096184  1.580634  -0.251007    1.340899   \n53513  1.731938  1.061833 -1.660465  0.313655   4.043199    1.340899   \n53514  1.732002 -1.286557  1.420496  0.630400   0.176578   -1.340615   \n\n       manufacture_year  Age of car  engine_displacement  engine_power  \\\n0             -9.979547    9.979547             0.040059      1.041028   \n1              0.342318   -0.342318            -0.442379     -1.105807   \n2              0.772396   -0.772396             0.060773      0.101788   \n3              0.127279   -0.127279            -0.191137      0.884488   \n4              0.342318   -0.342318             0.727634      1.779003   \n...                 ...         ...                  ...           ...   \n53510          0.772396   -0.772396            -0.204501     -0.524372   \n53511         -0.302798    0.302798            -0.002706     -0.524372   \n53512          0.987435   -0.987435             0.060773      0.101788   \n53513          0.127279   -0.127279             6.712674     -0.166566   \n53514         -0.517837    0.517837             0.727634      1.622463   \n\n       Vroom Audit Rating  transmission  door_count  seat_count  fuel_type  \\\n0                1.411249      0.675882    0.000000    0.000000   1.030407   \n1                0.001146      0.675882    0.039312   -1.712223   1.030407   \n2                0.706198     -1.479521    0.039312    0.220093  -0.970472   \n3                0.706198      0.675882    0.039312    0.220093   1.030407   \n4                0.706198     -1.479521    0.039312    0.220093  -0.970472   \n...                   ...           ...         ...         ...        ...   \n53510           -1.408957      0.675882    0.039312    0.220093  -0.970472   \n53511            1.411249      0.675882    1.495881    0.220093  -0.970472   \n53512           -1.408957     -1.479521    0.039312    0.220093  -0.970472   \n53513           -0.703905      0.675882    0.000000    0.000000  -0.970472   \n53514           -1.408957     -1.479521    1.495881    0.220093  -0.970472   \n\n          Price  \n0     -0.656655  \n1     -0.824805  \n2      1.533806  \n3     -0.165226  \n4      2.354395  \n...         ...  \n53510  0.290127  \n53511 -0.695784  \n53512  1.078046  \n53513 -0.265035  \n53514  0.566870  \n\n[53515 rows x 16 columns]",
            "text/html": "<div>\n<style scoped>\n    .dataframe tbody tr th:only-of-type {\n        vertical-align: middle;\n    }\n\n    .dataframe tbody tr th {\n        vertical-align: top;\n    }\n\n    .dataframe thead th {\n        text-align: right;\n    }\n</style>\n<table border=\"1\" class=\"dataframe\">\n  <thead>\n    <tr style=\"text-align: right;\">\n      <th></th>\n      <th>Id</th>\n      <th>Maker</th>\n      <th>model</th>\n      <th>Location</th>\n      <th>Distance</th>\n      <th>Owner Type</th>\n      <th>manufacture_year</th>\n      <th>Age of car</th>\n      <th>engine_displacement</th>\n      <th>engine_power</th>\n      <th>Vroom Audit Rating</th>\n      <th>transmission</th>\n      <th>door_count</th>\n      <th>seat_count</th>\n      <th>fuel_type</th>\n      <th>Price</th>\n    </tr>\n  </thead>\n  <tbody>\n    <tr>\n      <th>0</th>\n      <td>-1.732002</td>\n      <td>0.670435</td>\n      <td>-0.525374</td>\n      <td>-1.586813</td>\n      <td>-0.104123</td>\n      <td>0.447061</td>\n      <td>-9.979547</td>\n      <td>9.979547</td>\n      <td>0.040059</td>\n      <td>1.041028</td>\n      <td>1.411249</td>\n      <td>0.675882</td>\n      <td>0.000000</td>\n      <td>0.000000</td>\n      <td>1.030407</td>\n      <td>-0.656655</td>\n    </tr>\n    <tr>\n      <th>1</th>\n      <td>-1.731938</td>\n      <td>-0.895159</td>\n      <td>-0.363218</td>\n      <td>-1.586813</td>\n      <td>-0.242749</td>\n      <td>1.340899</td>\n      <td>0.342318</td>\n      <td>-0.342318</td>\n      <td>-0.442379</td>\n      <td>-1.105807</td>\n      <td>0.001146</td>\n      <td>0.675882</td>\n      <td>0.039312</td>\n      <td>-1.712223</td>\n      <td>1.030407</td>\n      <td>-0.824805</td>\n    </tr>\n    <tr>\n      <th>2</th>\n      <td>-1.731873</td>\n      <td>-1.286557</td>\n      <td>1.096184</td>\n      <td>-0.003090</td>\n      <td>-0.175767</td>\n      <td>1.340899</td>\n      <td>0.772396</td>\n      <td>-0.772396</td>\n      <td>0.060773</td>\n      <td>0.101788</td>\n      <td>0.706198</td>\n      <td>-1.479521</td>\n      <td>0.039312</td>\n      <td>0.220093</td>\n      <td>-0.970472</td>\n      <td>1.533806</td>\n    </tr>\n    <tr>\n      <th>3</th>\n      <td>-1.731808</td>\n      <td>0.279036</td>\n      <td>-0.849686</td>\n      <td>1.263889</td>\n      <td>-0.183294</td>\n      <td>1.340899</td>\n      <td>0.127279</td>\n      <td>-0.127279</td>\n      <td>-0.191137</td>\n      <td>0.884488</td>\n      <td>0.706198</td>\n      <td>0.675882</td>\n      <td>0.039312</td>\n      <td>0.220093</td>\n      <td>1.030407</td>\n      <td>-0.165226</td>\n    </tr>\n    <tr>\n      <th>4</th>\n      <td>-1.731743</td>\n      <td>-1.286557</td>\n      <td>1.420496</td>\n      <td>0.313655</td>\n      <td>-0.126130</td>\n      <td>-0.446777</td>\n      <td>0.342318</td>\n      <td>-0.342318</td>\n      <td>0.727634</td>\n      <td>1.779003</td>\n      <td>0.706198</td>\n      <td>-1.479521</td>\n      <td>0.039312</td>\n      <td>0.220093</td>\n      <td>-0.970472</td>\n      <td>2.354395</td>\n    </tr>\n    <tr>\n      <th>...</th>\n      <td>...</td>\n      <td>...</td>\n      <td>...</td>\n      <td>...</td>\n      <td>...</td>\n      <td>...</td>\n      <td>...</td>\n      <td>...</td>\n      <td>...</td>\n      <td>...</td>\n      <td>...</td>\n      <td>...</td>\n      <td>...</td>\n      <td>...</td>\n      <td>...</td>\n      <td>...</td>\n    </tr>\n    <tr>\n      <th>53510</th>\n      <td>1.731743</td>\n      <td>0.670435</td>\n      <td>-0.525374</td>\n      <td>-0.319834</td>\n      <td>-0.236935</td>\n      <td>-0.446777</td>\n      <td>0.772396</td>\n      <td>-0.772396</td>\n      <td>-0.204501</td>\n      <td>-0.524372</td>\n      <td>-1.408957</td>\n      <td>0.675882</td>\n      <td>0.039312</td>\n      <td>0.220093</td>\n      <td>-0.970472</td>\n      <td>0.290127</td>\n    </tr>\n    <tr>\n      <th>53511</th>\n      <td>1.731808</td>\n      <td>0.670435</td>\n      <td>-0.525374</td>\n      <td>-1.270068</td>\n      <td>0.476186</td>\n      <td>-0.446777</td>\n      <td>-0.302798</td>\n      <td>0.302798</td>\n      <td>-0.002706</td>\n      <td>-0.524372</td>\n      <td>1.411249</td>\n      <td>0.675882</td>\n      <td>1.495881</td>\n      <td>0.220093</td>\n      <td>-0.970472</td>\n      <td>-0.695784</td>\n    </tr>\n    <tr>\n      <th>53512</th>\n      <td>1.731873</td>\n      <td>-1.286557</td>\n      <td>1.096184</td>\n      <td>1.580634</td>\n      <td>-0.251007</td>\n      <td>1.340899</td>\n      <td>0.987435</td>\n      <td>-0.987435</td>\n      <td>0.060773</td>\n      <td>0.101788</td>\n      <td>-1.408957</td>\n      <td>-1.479521</td>\n      <td>0.039312</td>\n      <td>0.220093</td>\n      <td>-0.970472</td>\n      <td>1.078046</td>\n    </tr>\n    <tr>\n      <th>53513</th>\n      <td>1.731938</td>\n      <td>1.061833</td>\n      <td>-1.660465</td>\n      <td>0.313655</td>\n      <td>4.043199</td>\n      <td>1.340899</td>\n      <td>0.127279</td>\n      <td>-0.127279</td>\n      <td>6.712674</td>\n      <td>-0.166566</td>\n      <td>-0.703905</td>\n      <td>0.675882</td>\n      <td>0.000000</td>\n      <td>0.000000</td>\n      <td>-0.970472</td>\n      <td>-0.265035</td>\n    </tr>\n    <tr>\n      <th>53514</th>\n      <td>1.732002</td>\n      <td>-1.286557</td>\n      <td>1.420496</td>\n      <td>0.630400</td>\n      <td>0.176578</td>\n      <td>-1.340615</td>\n      <td>-0.517837</td>\n      <td>0.517837</td>\n      <td>0.727634</td>\n      <td>1.622463</td>\n      <td>-1.408957</td>\n      <td>-1.479521</td>\n      <td>1.495881</td>\n      <td>0.220093</td>\n      <td>-0.970472</td>\n      <td>0.566870</td>\n    </tr>\n  </tbody>\n</table>\n<p>53515 rows × 16 columns</p>\n</div>"
          },
          "metadata": {}
        }
      ],
      "execution_count": 40
    },
    {
      "cell_type": "code",
      "source": "df1=df[(z>-2)&(z<2)]",
      "metadata": {
        "trusted": true
      },
      "outputs": [],
      "execution_count": 41
    },
    {
      "cell_type": "code",
      "source": "df1.boxplot()\nplt.show()",
      "metadata": {
        "trusted": true
      },
      "outputs": [
        {
          "output_type": "display_data",
          "data": {
            "text/plain": "<Figure size 640x480 with 1 Axes>",
            "image/png": "[encoded data removed]"
          },
          "metadata": {}
        }
      ],
      "execution_count": 42
    },
    {
      "cell_type": "code",
      "source": "z=(df1-df1.mean())/df1.std()",
      "metadata": {
        "trusted": true
      },
      "outputs": [],
      "execution_count": 43
    },
    {
      "cell_type": "code",
      "source": "z",
      "metadata": {
        "trusted": true
      },
      "outputs": [
        {
          "execution_count": 44,
          "output_type": "execute_result",
          "data": {
            "text/plain": "             Id     Maker     model  Location  Distance   Owner Type  \\\n0     -1.732002  0.670435 -0.525374 -1.586813  -0.219133    0.447061   \n1     -1.731938 -0.895159 -0.363218 -1.586813  -0.711934    1.340899   \n2     -1.731873 -1.286557  1.096184 -0.003090  -0.473818    1.340899   \n3     -1.731808  0.279036 -0.849686  1.263889  -0.500579    1.340899   \n4     -1.731743 -1.286557  1.420496  0.313655  -0.297365   -0.446777   \n...         ...       ...       ...       ...        ...         ...   \n53510  1.731743  0.670435 -0.525374 -0.319834  -0.691267   -0.446777   \n53511  1.731808  0.670435 -0.525374 -1.270068   1.843806   -0.446777   \n53512  1.731873 -1.286557  1.096184  1.580634  -0.741290    1.340899   \n53513  1.731938  1.061833 -1.660465  0.313655        NaN    1.340899   \n53514  1.732002 -1.286557  1.420496  0.630400   0.778733   -1.340615   \n\n       manufacture_year  Age of car  engine_displacement  engine_power  \\\n0                   NaN         NaN             0.299406      1.532269   \n1              0.258592   -0.258592            -0.972707     -1.289604   \n2              0.817382   -0.817382             0.354026      0.297699   \n3             -0.020804    0.020804            -0.310221      1.326507   \n4              0.258592   -0.258592             2.112431      2.502287   \n...                 ...         ...                  ...           ...   \n53510          0.817382   -0.817382            -0.345460     -0.525347   \n53511         -0.579594    0.579594             0.186643     -0.525347   \n53512          1.096778   -1.096778             0.354026      0.297699   \n53513         -0.020804    0.020804                  NaN     -0.055035   \n53514         -0.858990    0.858990             2.112431      2.296526   \n\n       Vroom Audit Rating  transmission  door_count  seat_count  fuel_type  \\\n0                1.411249      0.675882   -0.470253   -0.032198   1.030407   \n1                0.001146      0.675882   -0.397440   -3.218213   1.030407   \n2                0.706198     -1.479521   -0.397440    0.377339  -0.970472   \n3                0.706198      0.675882   -0.397440    0.377339   1.030407   \n4                0.706198     -1.479521   -0.397440    0.377339  -0.970472   \n...                   ...           ...         ...         ...        ...   \n53510           -1.408957      0.675882   -0.397440    0.377339  -0.970472   \n53511            1.411249      0.675882    2.300414    0.377339  -0.970472   \n53512           -1.408957     -1.479521   -0.397440    0.377339  -0.970472   \n53513           -0.703905      0.675882   -0.470253   -0.032198  -0.970472   \n53514           -1.408957     -1.479521    2.300414    0.377339  -0.970472   \n\n          Price  \n0     -0.697782  \n1     -0.923688  \n2      2.245066  \n3     -0.037556  \n4           NaN  \n...         ...  \n53510  0.574205  \n53511 -0.750352  \n53512  1.632761  \n53513 -0.171647  \n53514  0.946003  \n\n[53515 rows x 16 columns]",
            "text/html": "<div>\n<style scoped>\n    .dataframe tbody tr th:only-of-type {\n        vertical-align: middle;\n    }\n\n    .dataframe tbody tr th {\n        vertical-align: top;\n    }\n\n    .dataframe thead th {\n        text-align: right;\n    }\n</style>\n<table border=\"1\" class=\"dataframe\">\n  <thead>\n    <tr style=\"text-align: right;\">\n      <th></th>\n      <th>Id</th>\n      <th>Maker</th>\n      <th>model</th>\n      <th>Location</th>\n      <th>Distance</th>\n      <th>Owner Type</th>\n      <th>manufacture_year</th>\n      <th>Age of car</th>\n      <th>engine_displacement</th>\n      <th>engine_power</th>\n      <th>Vroom Audit Rating</th>\n      <th>transmission</th>\n      <th>door_count</th>\n      <th>seat_count</th>\n      <th>fuel_type</th>\n      <th>Price</th>\n    </tr>\n  </thead>\n  <tbody>\n    <tr>\n      <th>0</th>\n      <td>-1.732002</td>\n      <td>0.670435</td>\n      <td>-0.525374</td>\n      <td>-1.586813</td>\n      <td>-0.219133</td>\n      <td>0.447061</td>\n      <td>NaN</td>\n      <td>NaN</td>\n      <td>0.299406</td>\n      <td>1.532269</td>\n      <td>1.411249</td>\n      <td>0.675882</td>\n      <td>-0.470253</td>\n      <td>-0.032198</td>\n      <td>1.030407</td>\n      <td>-0.697782</td>\n    </tr>\n    <tr>\n      <th>1</th>\n      <td>-1.731938</td>\n      <td>-0.895159</td>\n      <td>-0.363218</td>\n      <td>-1.586813</td>\n      <td>-0.711934</td>\n      <td>1.340899</td>\n      <td>0.258592</td>\n      <td>-0.258592</td>\n      <td>-0.972707</td>\n      <td>-1.289604</td>\n      <td>0.001146</td>\n      <td>0.675882</td>\n      <td>-0.397440</td>\n      <td>-3.218213</td>\n      <td>1.030407</td>\n      <td>-0.923688</td>\n    </tr>\n    <tr>\n      <th>2</th>\n      <td>-1.731873</td>\n      <td>-1.286557</td>\n      <td>1.096184</td>\n      <td>-0.003090</td>\n      <td>-0.473818</td>\n      <td>1.340899</td>\n      <td>0.817382</td>\n      <td>-0.817382</td>\n      <td>0.354026</td>\n      <td>0.297699</td>\n      <td>0.706198</td>\n      <td>-1.479521</td>\n      <td>-0.397440</td>\n      <td>0.377339</td>\n      <td>-0.970472</td>\n      <td>2.245066</td>\n    </tr>\n    <tr>\n      <th>3</th>\n      <td>-1.731808</td>\n      <td>0.279036</td>\n      <td>-0.849686</td>\n      <td>1.263889</td>\n      <td>-0.500579</td>\n      <td>1.340899</td>\n      <td>-0.020804</td>\n      <td>0.020804</td>\n      <td>-0.310221</td>\n      <td>1.326507</td>\n      <td>0.706198</td>\n      <td>0.675882</td>\n      <td>-0.397440</td>\n      <td>0.377339</td>\n      <td>1.030407</td>\n      <td>-0.037556</td>\n    </tr>\n    <tr>\n      <th>4</th>\n      <td>-1.731743</td>\n      <td>-1.286557</td>\n      <td>1.420496</td>\n      <td>0.313655</td>\n      <td>-0.297365</td>\n      <td>-0.446777</td>\n      <td>0.258592</td>\n      <td>-0.258592</td>\n      <td>2.112431</td>\n      <td>2.502287</td>\n      <td>0.706198</td>\n      <td>-1.479521</td>\n      <td>-0.397440</td>\n      <td>0.377339</td>\n      <td>-0.970472</td>\n      <td>NaN</td>\n    </tr>\n    <tr>\n      <th>...</th>\n      <td>...</td>\n      <td>...</td>\n      <td>...</td>\n      <td>...</td>\n      <td>...</td>\n      <td>...</td>\n      <td>...</td>\n      <td>...</td>\n      <td>...</td>\n      <td>...</td>\n      <td>...</td>\n      <td>...</td>\n      <td>...</td>\n      <td>...</td>\n      <td>...</td>\n      <td>...</td>\n    </tr>\n    <tr>\n      <th>53510</th>\n      <td>1.731743</td>\n      <td>0.670435</td>\n      <td>-0.525374</td>\n      <td>-0.319834</td>\n      <td>-0.691267</td>\n      <td>-0.446777</td>\n      <td>0.817382</td>\n      <td>-0.817382</td>\n      <td>-0.345460</td>\n      <td>-0.525347</td>\n      <td>-1.408957</td>\n      <td>0.675882</td>\n      <td>-0.397440</td>\n      <td>0.377339</td>\n      <td>-0.970472</td>\n      <td>0.574205</td>\n    </tr>\n    <tr>\n      <th>53511</th>\n      <td>1.731808</td>\n      <td>0.670435</td>\n      <td>-0.525374</td>\n      <td>-1.270068</td>\n      <td>1.843806</td>\n      <td>-0.446777</td>\n      <td>-0.579594</td>\n      <td>0.579594</td>\n      <td>0.186643</td>\n      <td>-0.525347</td>\n      <td>1.411249</td>\n      <td>0.675882</td>\n      <td>2.300414</td>\n      <td>0.377339</td>\n      <td>-0.970472</td>\n      <td>-0.750352</td>\n    </tr>\n    <tr>\n      <th>53512</th>\n      <td>1.731873</td>\n      <td>-1.286557</td>\n      <td>1.096184</td>\n      <td>1.580634</td>\n      <td>-0.741290</td>\n      <td>1.340899</td>\n      <td>1.096778</td>\n      <td>-1.096778</td>\n      <td>0.354026</td>\n      <td>0.297699</td>\n      <td>-1.408957</td>\n      <td>-1.479521</td>\n      <td>-0.397440</td>\n      <td>0.377339</td>\n      <td>-0.970472</td>\n      <td>1.632761</td>\n    </tr>\n    <tr>\n      <th>53513</th>\n      <td>1.731938</td>\n      <td>1.061833</td>\n      <td>-1.660465</td>\n      <td>0.313655</td>\n      <td>NaN</td>\n      <td>1.340899</td>\n      <td>-0.020804</td>\n      <td>0.020804</td>\n      <td>NaN</td>\n      <td>-0.055035</td>\n      <td>-0.703905</td>\n      <td>0.675882</td>\n      <td>-0.470253</td>\n      <td>-0.032198</td>\n      <td>-0.970472</td>\n      <td>-0.171647</td>\n    </tr>\n    <tr>\n      <th>53514</th>\n      <td>1.732002</td>\n      <td>-1.286557</td>\n      <td>1.420496</td>\n      <td>0.630400</td>\n      <td>0.778733</td>\n      <td>-1.340615</td>\n      <td>-0.858990</td>\n      <td>0.858990</td>\n      <td>2.112431</td>\n      <td>2.296526</td>\n      <td>-1.408957</td>\n      <td>-1.479521</td>\n      <td>2.300414</td>\n      <td>0.377339</td>\n      <td>-0.970472</td>\n      <td>0.946003</td>\n    </tr>\n  </tbody>\n</table>\n<p>53515 rows × 16 columns</p>\n</div>"
          },
          "metadata": {}
        }
      ],
      "execution_count": 44
    },
    {
      "cell_type": "code",
      "source": "df2=df1[(z>-2)&(z<2)]",
      "metadata": {
        "trusted": true
      },
      "outputs": [],
      "execution_count": 45
    },
    {
      "cell_type": "code",
      "source": "df2.boxplot()\nplt.show()",
      "metadata": {
        "trusted": true
      },
      "outputs": [
        {
          "output_type": "display_data",
          "data": {
            "text/plain": "<Figure size 640x480 with 1 Axes>",
            "image/png": "[encoded data removed]"
          },
          "metadata": {}
        }
      ],
      "execution_count": 46
    },
    {
      "cell_type": "code",
      "source": "z=(df2-df2.mean())/df2.std()",
      "metadata": {
        "trusted": true
      },
      "outputs": [],
      "execution_count": 47
    },
    {
      "cell_type": "code",
      "source": "z",
      "metadata": {
        "trusted": true
      },
      "outputs": [
        {
          "execution_count": 48,
          "output_type": "execute_result",
          "data": {
            "text/plain": "             Id     Maker     model  Location  Distance   Owner Type  \\\n0     -1.732002  0.670435 -0.525374 -1.586813  -0.125029    0.447061   \n1     -1.731938 -0.895159 -0.363218 -1.586813  -0.705366    1.340899   \n2     -1.731873 -1.286557  1.096184 -0.003090  -0.424954    1.340899   \n3     -1.731808  0.279036 -0.849686  1.263889  -0.456468    1.340899   \n4     -1.731743 -1.286557  1.420496  0.313655  -0.217158   -0.446777   \n...         ...       ...       ...       ...        ...         ...   \n53510  1.731743  0.670435 -0.525374 -0.319834  -0.681028   -0.446777   \n53511  1.731808  0.670435 -0.525374 -1.270068   2.304350   -0.446777   \n53512  1.731873 -1.286557  1.096184  1.580634  -0.739937    1.340899   \n53513  1.731938  1.061833 -1.660465  0.313655        NaN    1.340899   \n53514  1.732002 -1.286557  1.420496  0.630400   1.050088   -1.340615   \n\n       manufacture_year  Age of car  engine_displacement  engine_power  \\\n0                   NaN         NaN             0.848838      1.964496   \n1              0.193675   -0.193675            -1.135804     -1.382672   \n2              0.806219   -0.806219             0.934051      0.500110   \n3             -0.112597    0.112597            -0.102251      1.720432   \n4              0.193675   -0.193675                  NaN           NaN   \n...                 ...         ...                  ...           ...   \n53510          0.806219   -0.806219            -0.157227     -0.476147   \n53511         -0.725141    0.725141             0.672914     -0.476147   \n53512          1.112491   -1.112491             0.934051      0.500110   \n53513         -0.112597    0.112597                  NaN      0.081714   \n53514         -1.031413    1.031413                  NaN           NaN   \n\n       Vroom Audit Rating  transmission  door_count  seat_count  fuel_type  \\\n0                1.411249      0.675882   -2.118321   -2.135774   1.030407   \n1                0.001146      0.675882    0.472061         NaN   1.030407   \n2                0.706198     -1.479521    0.472061    0.468204  -0.970472   \n3                0.706198      0.675882    0.472061    0.468204   1.030407   \n4                0.706198     -1.479521    0.472061    0.468204  -0.970472   \n...                   ...           ...         ...         ...        ...   \n53510           -1.408957      0.675882    0.472061    0.468204  -0.970472   \n53511            1.411249      0.675882         NaN    0.468204  -0.970472   \n53512           -1.408957     -1.479521    0.472061    0.468204  -0.970472   \n53513           -0.703905      0.675882   -2.118321   -2.135774  -0.970472   \n53514           -1.408957     -1.479521         NaN    0.468204  -0.970472   \n\n          Price  \n0     -0.668588  \n1     -0.934225  \n2           NaN  \n3      0.107752  \n4           NaN  \n...         ...  \n53510  0.827104  \n53511 -0.730403  \n53512  2.071829  \n53513 -0.049922  \n53514  1.264291  \n\n[53515 rows x 16 columns]",
            "text/html": "<div>\n<style scoped>\n    .dataframe tbody tr th:only-of-type {\n        vertical-align: middle;\n    }\n\n    .dataframe tbody tr th {\n        vertical-align: top;\n    }\n\n    .dataframe thead th {\n        text-align: right;\n    }\n</style>\n<table border=\"1\" class=\"dataframe\">\n  <thead>\n    <tr style=\"text-align: right;\">\n      <th></th>\n      <th>Id</th>\n      <th>Maker</th>\n      <th>model</th>\n      <th>Location</th>\n      <th>Distance</th>\n      <th>Owner Type</th>\n      <th>manufacture_year</th>\n      <th>Age of car</th>\n      <th>engine_displacement</th>\n      <th>engine_power</th>\n      <th>Vroom Audit Rating</th>\n      <th>transmission</th>\n      <th>door_count</th>\n      <th>seat_count</th>\n      <th>fuel_type</th>\n      <th>Price</th>\n    </tr>\n  </thead>\n  <tbody>\n    <tr>\n      <th>0</th>\n      <td>-1.732002</td>\n      <td>0.670435</td>\n      <td>-0.525374</td>\n      <td>-1.586813</td>\n      <td>-0.125029</td>\n      <td>0.447061</td>\n      <td>NaN</td>\n      <td>NaN</td>\n      <td>0.848838</td>\n      <td>1.964496</td>\n      <td>1.411249</td>\n      <td>0.675882</td>\n      <td>-2.118321</td>\n      <td>-2.135774</td>\n      <td>1.030407</td>\n      <td>-0.668588</td>\n    </tr>\n    <tr>\n      <th>1</th>\n      <td>-1.731938</td>\n      <td>-0.895159</td>\n      <td>-0.363218</td>\n      <td>-1.586813</td>\n      <td>-0.705366</td>\n      <td>1.340899</td>\n      <td>0.193675</td>\n      <td>-0.193675</td>\n      <td>-1.135804</td>\n      <td>-1.382672</td>\n      <td>0.001146</td>\n      <td>0.675882</td>\n      <td>0.472061</td>\n      <td>NaN</td>\n      <td>1.030407</td>\n      <td>-0.934225</td>\n    </tr>\n    <tr>\n      <th>2</th>\n      <td>-1.731873</td>\n      <td>-1.286557</td>\n      <td>1.096184</td>\n      <td>-0.003090</td>\n      <td>-0.424954</td>\n      <td>1.340899</td>\n      <td>0.806219</td>\n      <td>-0.806219</td>\n      <td>0.934051</td>\n      <td>0.500110</td>\n      <td>0.706198</td>\n      <td>-1.479521</td>\n      <td>0.472061</td>\n      <td>0.468204</td>\n      <td>-0.970472</td>\n      <td>NaN</td>\n    </tr>\n    <tr>\n      <th>3</th>\n      <td>-1.731808</td>\n      <td>0.279036</td>\n      <td>-0.849686</td>\n      <td>1.263889</td>\n      <td>-0.456468</td>\n      <td>1.340899</td>\n      <td>-0.112597</td>\n      <td>0.112597</td>\n      <td>-0.102251</td>\n      <td>1.720432</td>\n      <td>0.706198</td>\n      <td>0.675882</td>\n      <td>0.472061</td>\n      <td>0.468204</td>\n      <td>1.030407</td>\n      <td>0.107752</td>\n    </tr>\n    <tr>\n      <th>4</th>\n      <td>-1.731743</td>\n      <td>-1.286557</td>\n      <td>1.420496</td>\n      <td>0.313655</td>\n      <td>-0.217158</td>\n      <td>-0.446777</td>\n      <td>0.193675</td>\n      <td>-0.193675</td>\n      <td>NaN</td>\n      <td>NaN</td>\n      <td>0.706198</td>\n      <td>-1.479521</td>\n      <td>0.472061</td>\n      <td>0.468204</td>\n      <td>-0.970472</td>\n      <td>NaN</td>\n    </tr>\n    <tr>\n      <th>...</th>\n      <td>...</td>\n      <td>...</td>\n      <td>...</td>\n      <td>...</td>\n      <td>...</td>\n      <td>...</td>\n      <td>...</td>\n      <td>...</td>\n      <td>...</td>\n      <td>...</td>\n      <td>...</td>\n      <td>...</td>\n      <td>...</td>\n      <td>...</td>\n      <td>...</td>\n      <td>...</td>\n    </tr>\n    <tr>\n      <th>53510</th>\n      <td>1.731743</td>\n      <td>0.670435</td>\n      <td>-0.525374</td>\n      <td>-0.319834</td>\n      <td>-0.681028</td>\n      <td>-0.446777</td>\n      <td>0.806219</td>\n      <td>-0.806219</td>\n      <td>-0.157227</td>\n      <td>-0.476147</td>\n      <td>-1.408957</td>\n      <td>0.675882</td>\n      <td>0.472061</td>\n      <td>0.468204</td>\n      <td>-0.970472</td>\n      <td>0.827104</td>\n    </tr>\n    <tr>\n      <th>53511</th>\n      <td>1.731808</td>\n      <td>0.670435</td>\n      <td>-0.525374</td>\n      <td>-1.270068</td>\n      <td>2.304350</td>\n      <td>-0.446777</td>\n      <td>-0.725141</td>\n      <td>0.725141</td>\n      <td>0.672914</td>\n      <td>-0.476147</td>\n      <td>1.411249</td>\n      <td>0.675882</td>\n      <td>NaN</td>\n      <td>0.468204</td>\n      <td>-0.970472</td>\n      <td>-0.730403</td>\n    </tr>\n    <tr>\n      <th>53512</th>\n      <td>1.731873</td>\n      <td>-1.286557</td>\n      <td>1.096184</td>\n      <td>1.580634</td>\n      <td>-0.739937</td>\n      <td>1.340899</td>\n      <td>1.112491</td>\n      <td>-1.112491</td>\n      <td>0.934051</td>\n      <td>0.500110</td>\n      <td>-1.408957</td>\n      <td>-1.479521</td>\n      <td>0.472061</td>\n      <td>0.468204</td>\n      <td>-0.970472</td>\n      <td>2.071829</td>\n    </tr>\n    <tr>\n      <th>53513</th>\n      <td>1.731938</td>\n      <td>1.061833</td>\n      <td>-1.660465</td>\n      <td>0.313655</td>\n      <td>NaN</td>\n      <td>1.340899</td>\n      <td>-0.112597</td>\n      <td>0.112597</td>\n      <td>NaN</td>\n      <td>0.081714</td>\n      <td>-0.703905</td>\n      <td>0.675882</td>\n      <td>-2.118321</td>\n      <td>-2.135774</td>\n      <td>-0.970472</td>\n      <td>-0.049922</td>\n    </tr>\n    <tr>\n      <th>53514</th>\n      <td>1.732002</td>\n      <td>-1.286557</td>\n      <td>1.420496</td>\n      <td>0.630400</td>\n      <td>1.050088</td>\n      <td>-1.340615</td>\n      <td>-1.031413</td>\n      <td>1.031413</td>\n      <td>NaN</td>\n      <td>NaN</td>\n      <td>-1.408957</td>\n      <td>-1.479521</td>\n      <td>NaN</td>\n      <td>0.468204</td>\n      <td>-0.970472</td>\n      <td>1.264291</td>\n    </tr>\n  </tbody>\n</table>\n<p>53515 rows × 16 columns</p>\n</div>"
          },
          "metadata": {}
        }
      ],
      "execution_count": 48
    },
    {
      "cell_type": "code",
      "source": "df3=df2[(z>-2)&(z<2)]",
      "metadata": {
        "trusted": true
      },
      "outputs": [],
      "execution_count": 49
    },
    {
      "cell_type": "code",
      "source": "df3.boxplot()\nplt.show()",
      "metadata": {
        "trusted": true
      },
      "outputs": [
        {
          "output_type": "display_data",
          "data": {
            "text/plain": "<Figure size 640x480 with 1 Axes>",
            "image/png": "[encoded data removed]"
          },
          "metadata": {}
        }
      ],
      "execution_count": 50
    },
    {
      "cell_type": "code",
      "source": "df3.isnull().sum()",
      "metadata": {
        "trusted": true
      },
      "outputs": [
        {
          "execution_count": 51,
          "output_type": "execute_result",
          "data": {
            "text/plain": "Id                         0\nMaker                      0\nmodel                      0\nLocation                   0\nDistance                4252\nOwner Type                 0\nmanufacture_year        5832\nAge of car              5832\nengine_displacement     6224\nengine_power            6848\nVroom Audit Rating         0\ntransmission               0\ndoor_count             19707\nseat_count             14691\nfuel_type                  0\nPrice                   6983\ndtype: int64"
          },
          "metadata": {}
        }
      ],
      "execution_count": 51
    },
    {
      "cell_type": "code",
      "source": "df3.dropna(inplace=True)",
      "metadata": {
        "trusted": true
      },
      "outputs": [],
      "execution_count": 52
    },
    {
      "cell_type": "code",
      "source": "df3.isnull().sum()",
      "metadata": {
        "trusted": true
      },
      "outputs": [
        {
          "execution_count": 53,
          "output_type": "execute_result",
          "data": {
            "text/plain": "Id                     0\nMaker                  0\nmodel                  0\nLocation               0\nDistance               0\nOwner Type             0\nmanufacture_year       0\nAge of car             0\nengine_displacement    0\nengine_power           0\nVroom Audit Rating     0\ntransmission           0\ndoor_count             0\nseat_count             0\nfuel_type              0\nPrice                  0\ndtype: int64"
          },
          "metadata": {}
        }
      ],
      "execution_count": 53
    },
    {
      "cell_type": "code",
      "source": "from sklearn.preprocessing import StandardScaler\nss=StandardScaler()",
      "metadata": {
        "trusted": true
      },
      "outputs": [],
      "execution_count": 54
    },
    {
      "cell_type": "code",
      "source": "data=pd.DataFrame(ss.fit_transform(df3),columns=df3.columns)",
      "metadata": {
        "trusted": true
      },
      "outputs": [],
      "execution_count": 55
    },
    {
      "cell_type": "code",
      "source": "data",
      "metadata": {
        "trusted": true
      },
      "outputs": [
        {
          "execution_count": 56,
          "output_type": "execute_result",
          "data": {
            "text/plain": "             Id     Maker     model  Location  Distance   Owner Type  \\\n0     -1.741111  0.057313 -0.852857  1.257948  -0.252008    1.335797   \n1     -1.740981  0.515634 -0.549365 -0.954388  -0.842436   -1.341659   \n2     -1.740787  0.057313  0.209363 -0.638340  -0.743335   -1.341659   \n3     -1.740463  0.973955 -1.459840 -1.586483  -1.064397   -0.449174   \n4     -1.740268  0.515634  1.575075 -1.270435  -1.062733   -1.341659   \n...         ...       ...       ...       ...        ...         ...   \n19787  1.729064  0.973955 -1.763331  0.941900  -0.509393   -1.341659   \n19788  1.729194 -2.234292 -0.094128  1.257948   2.193183    1.335797   \n19789  1.729388  0.515634  0.361109 -0.322292  -0.860592   -1.341659   \n19790  1.729518  0.515634  0.361109  1.257948  -1.064397   -0.449174   \n19791  1.729842  0.515634 -0.549365 -0.322292  -0.522225   -0.449174   \n\n       manufacture_year  Age of car  engine_displacement  engine_power  \\\n0             -0.375196    0.375196            -0.053511      2.070227   \n1              1.063789   -1.063789             1.023444      0.798729   \n2              1.063789   -1.063789            -0.108897      0.205363   \n3              1.063789   -1.063789            -1.961259     -1.701885   \n4              1.063789   -1.063789            -1.348934     -0.430386   \n...                 ...         ...                  ...           ...   \n19787          0.704043   -0.704043             0.500351     -0.769453   \n19788         -0.015450    0.015450             1.023444      1.222562   \n19789          1.063789   -1.063789            -1.348934     -0.599920   \n19790          1.063789   -1.063789            -1.348934     -0.599920   \n19791          0.704043   -0.704043            -0.115051     -0.599920   \n\n       Vroom Audit Rating  transmission  door_count  seat_count  fuel_type  \\\n0                0.708879      0.552134         0.0         0.0   0.995664   \n1               -1.397536      0.552134         0.0         0.0  -1.004355   \n2               -0.695398      0.552134         0.0         0.0  -1.004355   \n3               -1.397536      0.552134         0.0         0.0   0.995664   \n4               -0.695398      0.552134         0.0         0.0   0.995664   \n...                   ...           ...         ...         ...        ...   \n19787           -1.397536     -1.811153         0.0         0.0   0.995664   \n19788            0.708879      0.552134         0.0         0.0  -1.004355   \n19789           -0.695398      0.552134         0.0         0.0   0.995664   \n19790           -1.397536      0.552134         0.0         0.0   0.995664   \n19791           -1.397536      0.552134         0.0         0.0  -1.004355   \n\n          Price  \n0     -0.180869  \n1      1.215133  \n2      0.780319  \n3     -0.624000  \n4      0.328241  \n...         ...  \n19787  0.689499  \n19788  1.999186  \n19789 -0.140465  \n19790 -0.527975  \n19791  0.736220  \n\n[19792 rows x 16 columns]",
            "text/html": "<div>\n<style scoped>\n    .dataframe tbody tr th:only-of-type {\n        vertical-align: middle;\n    }\n\n    .dataframe tbody tr th {\n        vertical-align: top;\n    }\n\n    .dataframe thead th {\n        text-align: right;\n    }\n</style>\n<table border=\"1\" class=\"dataframe\">\n  <thead>\n    <tr style=\"text-align: right;\">\n      <th></th>\n      <th>Id</th>\n      <th>Maker</th>\n      <th>model</th>\n      <th>Location</th>\n      <th>Distance</th>\n      <th>Owner Type</th>\n      <th>manufacture_year</th>\n      <th>Age of car</th>\n      <th>engine_displacement</th>\n      <th>engine_power</th>\n      <th>Vroom Audit Rating</th>\n      <th>transmission</th>\n      <th>door_count</th>\n      <th>seat_count</th>\n      <th>fuel_type</th>\n      <th>Price</th>\n    </tr>\n  </thead>\n  <tbody>\n    <tr>\n      <th>0</th>\n      <td>-1.741111</td>\n      <td>0.057313</td>\n      <td>-0.852857</td>\n      <td>1.257948</td>\n      <td>-0.252008</td>\n      <td>1.335797</td>\n      <td>-0.375196</td>\n      <td>0.375196</td>\n      <td>-0.053511</td>\n      <td>2.070227</td>\n      <td>0.708879</td>\n      <td>0.552134</td>\n      <td>0.0</td>\n      <td>0.0</td>\n      <td>0.995664</td>\n      <td>-0.180869</td>\n    </tr>\n    <tr>\n      <th>1</th>\n      <td>-1.740981</td>\n      <td>0.515634</td>\n      <td>-0.549365</td>\n      <td>-0.954388</td>\n      <td>-0.842436</td>\n      <td>-1.341659</td>\n      <td>1.063789</td>\n      <td>-1.063789</td>\n      <td>1.023444</td>\n      <td>0.798729</td>\n      <td>-1.397536</td>\n      <td>0.552134</td>\n      <td>0.0</td>\n      <td>0.0</td>\n      <td>-1.004355</td>\n      <td>1.215133</td>\n    </tr>\n    <tr>\n      <th>2</th>\n      <td>-1.740787</td>\n      <td>0.057313</td>\n      <td>0.209363</td>\n      <td>-0.638340</td>\n      <td>-0.743335</td>\n      <td>-1.341659</td>\n      <td>1.063789</td>\n      <td>-1.063789</td>\n      <td>-0.108897</td>\n      <td>0.205363</td>\n      <td>-0.695398</td>\n      <td>0.552134</td>\n      <td>0.0</td>\n      <td>0.0</td>\n      <td>-1.004355</td>\n      <td>0.780319</td>\n    </tr>\n    <tr>\n      <th>3</th>\n      <td>-1.740463</td>\n      <td>0.973955</td>\n      <td>-1.459840</td>\n      <td>-1.586483</td>\n      <td>-1.064397</td>\n      <td>-0.449174</td>\n      <td>1.063789</td>\n      <td>-1.063789</td>\n      <td>-1.961259</td>\n      <td>-1.701885</td>\n      <td>-1.397536</td>\n      <td>0.552134</td>\n      <td>0.0</td>\n      <td>0.0</td>\n      <td>0.995664</td>\n      <td>-0.624000</td>\n    </tr>\n    <tr>\n      <th>4</th>\n      <td>-1.740268</td>\n      <td>0.515634</td>\n      <td>1.575075</td>\n      <td>-1.270435</td>\n      <td>-1.062733</td>\n      <td>-1.341659</td>\n      <td>1.063789</td>\n      <td>-1.063789</td>\n      <td>-1.348934</td>\n      <td>-0.430386</td>\n      <td>-0.695398</td>\n      <td>0.552134</td>\n      <td>0.0</td>\n      <td>0.0</td>\n      <td>0.995664</td>\n      <td>0.328241</td>\n    </tr>\n    <tr>\n      <th>...</th>\n      <td>...</td>\n      <td>...</td>\n      <td>...</td>\n      <td>...</td>\n      <td>...</td>\n      <td>...</td>\n      <td>...</td>\n      <td>...</td>\n      <td>...</td>\n      <td>...</td>\n      <td>...</td>\n      <td>...</td>\n      <td>...</td>\n      <td>...</td>\n      <td>...</td>\n      <td>...</td>\n    </tr>\n    <tr>\n      <th>19787</th>\n      <td>1.729064</td>\n      <td>0.973955</td>\n      <td>-1.763331</td>\n      <td>0.941900</td>\n      <td>-0.509393</td>\n      <td>-1.341659</td>\n      <td>0.704043</td>\n      <td>-0.704043</td>\n      <td>0.500351</td>\n      <td>-0.769453</td>\n      <td>-1.397536</td>\n      <td>-1.811153</td>\n      <td>0.0</td>\n      <td>0.0</td>\n      <td>0.995664</td>\n      <td>0.689499</td>\n    </tr>\n    <tr>\n      <th>19788</th>\n      <td>1.729194</td>\n      <td>-2.234292</td>\n      <td>-0.094128</td>\n      <td>1.257948</td>\n      <td>2.193183</td>\n      <td>1.335797</td>\n      <td>-0.015450</td>\n      <td>0.015450</td>\n      <td>1.023444</td>\n      <td>1.222562</td>\n      <td>0.708879</td>\n      <td>0.552134</td>\n      <td>0.0</td>\n      <td>0.0</td>\n      <td>-1.004355</td>\n      <td>1.999186</td>\n    </tr>\n    <tr>\n      <th>19789</th>\n      <td>1.729388</td>\n      <td>0.515634</td>\n      <td>0.361109</td>\n      <td>-0.322292</td>\n      <td>-0.860592</td>\n      <td>-1.341659</td>\n      <td>1.063789</td>\n      <td>-1.063789</td>\n      <td>-1.348934</td>\n      <td>-0.599920</td>\n      <td>-0.695398</td>\n      <td>0.552134</td>\n      <td>0.0</td>\n      <td>0.0</td>\n      <td>0.995664</td>\n      <td>-0.140465</td>\n    </tr>\n    <tr>\n      <th>19790</th>\n      <td>1.729518</td>\n      <td>0.515634</td>\n      <td>0.361109</td>\n      <td>1.257948</td>\n      <td>-1.064397</td>\n      <td>-0.449174</td>\n      <td>1.063789</td>\n      <td>-1.063789</td>\n      <td>-1.348934</td>\n      <td>-0.599920</td>\n      <td>-1.397536</td>\n      <td>0.552134</td>\n      <td>0.0</td>\n      <td>0.0</td>\n      <td>0.995664</td>\n      <td>-0.527975</td>\n    </tr>\n    <tr>\n      <th>19791</th>\n      <td>1.729842</td>\n      <td>0.515634</td>\n      <td>-0.549365</td>\n      <td>-0.322292</td>\n      <td>-0.522225</td>\n      <td>-0.449174</td>\n      <td>0.704043</td>\n      <td>-0.704043</td>\n      <td>-0.115051</td>\n      <td>-0.599920</td>\n      <td>-1.397536</td>\n      <td>0.552134</td>\n      <td>0.0</td>\n      <td>0.0</td>\n      <td>-1.004355</td>\n      <td>0.736220</td>\n    </tr>\n  </tbody>\n</table>\n<p>19792 rows × 16 columns</p>\n</div>"
          },
          "metadata": {}
        }
      ],
      "execution_count": 56
    },
    {
      "cell_type": "code",
      "source": "data.columns",
      "metadata": {
        "trusted": true
      },
      "outputs": [
        {
          "execution_count": 57,
          "output_type": "execute_result",
          "data": {
            "text/plain": "Index(['Id', 'Maker', 'model', 'Location', 'Distance ', 'Owner Type',\n       'manufacture_year', 'Age of car', 'engine_displacement', 'engine_power',\n       'Vroom Audit Rating', 'transmission', 'door_count', 'seat_count',\n       'fuel_type', 'Price'],\n      dtype='object')"
          },
          "metadata": {}
        }
      ],
      "execution_count": 57
    },
    {
      "cell_type": "code",
      "source": "X=data[['Id', 'Maker', 'model', 'Location', 'Distance ', 'Owner Type',\n       'manufacture_year', 'Age of car', 'engine_displacement', 'engine_power',\n       'Vroom Audit Rating', 'transmission', 'door_count', 'seat_count',\n       'fuel_type']]\ny=data['Price']",
      "metadata": {
        "trusted": true
      },
      "outputs": [],
      "execution_count": 58
    },
    {
      "cell_type": "code",
      "source": "from sklearn.linear_model import LinearRegression\nmodel=LinearRegression()\n",
      "metadata": {
        "trusted": true
      },
      "outputs": [],
      "execution_count": 59
    },
    {
      "cell_type": "code",
      "source": "model.fit(X,y)",
      "metadata": {
        "trusted": true
      },
      "outputs": [
        {
          "execution_count": 60,
          "output_type": "execute_result",
          "data": {
            "text/plain": "LinearRegression()",
            "text/html": "<style>#sk-container-id-1 {\n  /* Definition of color scheme common for light and dark mode */\n  --sklearn-color-text: black;\n  --sklearn-color-line: gray;\n  /* Definition of color scheme for unfitted estimators */\n  --sklearn-color-unfitted-level-0: #fff5e6;\n  --sklearn-color-unfitted-level-1: #f6e4d2;\n  --sklearn-color-unfitted-level-2: #ffe0b3;\n  --sklearn-color-unfitted-level-3: chocolate;\n  /* Definition of color scheme for fitted estimators */\n  --sklearn-color-fitted-level-0: #f0f8ff;\n  --sklearn-color-fitted-level-1: #d4ebff;\n  --sklearn-color-fitted-level-2: #b3dbfd;\n  --sklearn-color-fitted-level-3: cornflowerblue;\n\n  /* Specific color for light theme */\n  --sklearn-color-text-on-default-background: var(--sg-text-color, var(--theme-code-foreground, var(--jp-content-font-color1, black)));\n  --sklearn-color-background: var(--sg-background-color, var(--theme-background, var(--jp-layout-color0, white)));\n  --sklearn-color-border-box: var(--sg-text-color, var(--theme-code-foreground, var(--jp-content-font-color1, black)));\n  --sklearn-color-icon: #696969;\n\n  @media (prefers-color-scheme: dark) {\n    /* Redefinition of color scheme for dark theme */\n    --sklearn-color-text-on-default-background: var(--sg-text-color, var(--theme-code-foreground, var(--jp-content-font-color1, white)));\n    --sklearn-color-background: var(--sg-background-color, var(--theme-background, var(--jp-layout-color0, #111)));\n    --sklearn-color-border-box: var(--sg-text-color, var(--theme-code-foreground, var(--jp-content-font-color1, white)));\n    --sklearn-color-icon: #878787;\n  }\n}\n\n#sk-container-id-1 {\n  color: var(--sklearn-color-text);\n}\n\n#sk-container-id-1 pre {\n  padding: 0;\n}\n\n#sk-container-id-1 input.sk-hidden--visually {\n  border: 0;\n  clip: rect(1px 1px 1px 1px);\n  clip: rect(1px, 1px, 1px, 1px);\n  height: 1px;\n  margin: -1px;\n  overflow: hidden;\n  padding: 0;\n  position: absolute;\n  width: 1px;\n}\n\n#sk-container-id-1 div.sk-dashed-wrapped {\n  border: 1px dashed var(--sklearn-color-line);\n  margin: 0 0.4em 0.5em 0.4em;\n  box-sizing: border-box;\n  padding-bottom: 0.4em;\n  background-color: var(--sklearn-color-background);\n}\n\n#sk-container-id-1 div.sk-container {\n  /* jupyter's `normalize.less` sets `[hidden] { display: none; }`\n     but bootstrap.min.css set `[hidden] { display: none !important; }`\n     so we also need the `!important` here to be able to override the\n     default hidden behavior on the sphinx rendered scikit-learn.org.\n     See: https://github.com/scikit-learn/scikit-learn/issues/21755 */\n  display: inline-block !important;\n  position: relative;\n}\n\n#sk-container-id-1 div.sk-text-repr-fallback {\n  display: none;\n}\n\ndiv.sk-parallel-item,\ndiv.sk-serial,\ndiv.sk-item {\n  /* draw centered vertical line to link estimators */\n  background-image: linear-gradient(var(--sklearn-color-text-on-default-background), var(--sklearn-color-text-on-default-background));\n  background-size: 2px 100%;\n  background-repeat: no-repeat;\n  background-position: center center;\n}\n\n/* Parallel-specific style estimator block */\n\n#sk-container-id-1 div.sk-parallel-item::after {\n  content: \"\";\n  width: 100%;\n  border-bottom: 2px solid var(--sklearn-color-text-on-default-background);\n  flex-grow: 1;\n}\n\n#sk-container-id-1 div.sk-parallel {\n  display: flex;\n  align-items: stretch;\n  justify-content: center;\n  background-color: var(--sklearn-color-background);\n  position: relative;\n}\n\n#sk-container-id-1 div.sk-parallel-item {\n  display: flex;\n  flex-direction: column;\n}\n\n#sk-container-id-1 div.sk-parallel-item:first-child::after {\n  align-self: flex-end;\n  width: 50%;\n}\n\n#sk-container-id-1 div.sk-parallel-item:last-child::after {\n  align-self: flex-start;\n  width: 50%;\n}\n\n#sk-container-id-1 div.sk-parallel-item:only-child::after {\n  width: 0;\n}\n\n/* Serial-specific style estimator block */\n\n#sk-container-id-1 div.sk-serial {\n  display: flex;\n  flex-direction: column;\n  align-items: center;\n  background-color: var(--sklearn-color-background);\n  padding-right: 1em;\n  padding-left: 1em;\n}\n\n\n/* Toggleable style: style used for estimator/Pipeline/ColumnTransformer box that is\nclickable and can be expanded/collapsed.\n- Pipeline and ColumnTransformer use this feature and define the default style\n- Estimators will overwrite some part of the style using the `sk-estimator` class\n*/\n\n/* Pipeline and ColumnTransformer style (default) */\n\n#sk-container-id-1 div.sk-toggleable {\n  /* Default theme specific background. It is overwritten whether we have a\n  specific estimator or a Pipeline/ColumnTransformer */\n  background-color: var(--sklearn-color-background);\n}\n\n/* Toggleable label */\n#sk-container-id-1 label.sk-toggleable__label {\n  cursor: pointer;\n  display: block;\n  width: 100%;\n  margin-bottom: 0;\n  padding: 0.5em;\n  box-sizing: border-box;\n  text-align: center;\n}\n\n#sk-container-id-1 label.sk-toggleable__label-arrow:before {\n  /* Arrow on the left of the label */\n  content: \"▸\";\n  float: left;\n  margin-right: 0.25em;\n  color: var(--sklearn-color-icon);\n}\n\n#sk-container-id-1 label.sk-toggleable__label-arrow:hover:before {\n  color: var(--sklearn-color-text);\n}\n\n/* Toggleable content - dropdown */\n\n#sk-container-id-1 div.sk-toggleable__content {\n  max-height: 0;\n  max-width: 0;\n  overflow: hidden;\n  text-align: left;\n  /* unfitted */\n  background-color: var(--sklearn-color-unfitted-level-0);\n}\n\n#sk-container-id-1 div.sk-toggleable__content.fitted {\n  /* fitted */\n  background-color: var(--sklearn-color-fitted-level-0);\n}\n\n#sk-container-id-1 div.sk-toggleable__content pre {\n  margin: 0.2em;\n  border-radius: 0.25em;\n  color: var(--sklearn-color-text);\n  /* unfitted */\n  background-color: var(--sklearn-color-unfitted-level-0);\n}\n\n#sk-container-id-1 div.sk-toggleable__content.fitted pre {\n  /* unfitted */\n  background-color: var(--sklearn-color-fitted-level-0);\n}\n\n#sk-container-id-1 input.sk-toggleable__control:checked~div.sk-toggleable__content {\n  /* Expand drop-down */\n  max-height: 200px;\n  max-width: 100%;\n  overflow: auto;\n}\n\n#sk-container-id-1 input.sk-toggleable__control:checked~label.sk-toggleable__label-arrow:before {\n  content: \"▾\";\n}\n\n/* Pipeline/ColumnTransformer-specific style */\n\n#sk-container-id-1 div.sk-label input.sk-toggleable__control:checked~label.sk-toggleable__label {\n  color: var(--sklearn-color-text);\n  background-color: var(--sklearn-color-unfitted-level-2);\n}\n\n#sk-container-id-1 div.sk-label.fitted input.sk-toggleable__control:checked~label.sk-toggleable__label {\n  background-color: var(--sklearn-color-fitted-level-2);\n}\n\n/* Estimator-specific style */\n\n/* Colorize estimator box */\n#sk-container-id-1 div.sk-estimator input.sk-toggleable__control:checked~label.sk-toggleable__label {\n  /* unfitted */\n  background-color: var(--sklearn-color-unfitted-level-2);\n}\n\n#sk-container-id-1 div.sk-estimator.fitted input.sk-toggleable__control:checked~label.sk-toggleable__label {\n  /* fitted */\n  background-color: var(--sklearn-color-fitted-level-2);\n}\n\n#sk-container-id-1 div.sk-label label.sk-toggleable__label,\n#sk-container-id-1 div.sk-label label {\n  /* The background is the default theme color */\n  color: var(--sklearn-color-text-on-default-background);\n}\n\n/* On hover, darken the color of the background */\n#sk-container-id-1 div.sk-label:hover label.sk-toggleable__label {\n  color: var(--sklearn-color-text);\n  background-color: var(--sklearn-color-unfitted-level-2);\n}\n\n/* Label box, darken color on hover, fitted */\n#sk-container-id-1 div.sk-label.fitted:hover label.sk-toggleable__label.fitted {\n  color: var(--sklearn-color-text);\n  background-color: var(--sklearn-color-fitted-level-2);\n}\n\n/* Estimator label */\n\n#sk-container-id-1 div.sk-label label {\n  font-family: monospace;\n  font-weight: bold;\n  display: inline-block;\n  line-height: 1.2em;\n}\n\n#sk-container-id-1 div.sk-label-container {\n  text-align: center;\n}\n\n/* Estimator-specific */\n#sk-container-id-1 div.sk-estimator {\n  font-family: monospace;\n  border: 1px dotted var(--sklearn-color-border-box);\n  border-radius: 0.25em;\n  box-sizing: border-box;\n  margin-bottom: 0.5em;\n  /* unfitted */\n  background-color: var(--sklearn-color-unfitted-level-0);\n}\n\n#sk-container-id-1 div.sk-estimator.fitted {\n  /* fitted */\n  background-color: var(--sklearn-color-fitted-level-0);\n}\n\n/* on hover */\n#sk-container-id-1 div.sk-estimator:hover {\n  /* unfitted */\n  background-color: var(--sklearn-color-unfitted-level-2);\n}\n\n#sk-container-id-1 div.sk-estimator.fitted:hover {\n  /* fitted */\n  background-color: var(--sklearn-color-fitted-level-2);\n}\n\n/* Specification for estimator info (e.g. \"i\" and \"?\") */\n\n/* Common style for \"i\" and \"?\" */\n\n.sk-estimator-doc-link,\na:link.sk-estimator-doc-link,\na:visited.sk-estimator-doc-link {\n  float: right;\n  font-size: smaller;\n  line-height: 1em;\n  font-family: monospace;\n  background-color: var(--sklearn-color-background);\n  border-radius: 1em;\n  height: 1em;\n  width: 1em;\n  text-decoration: none !important;\n  margin-left: 1ex;\n  /* unfitted */\n  border: var(--sklearn-color-unfitted-level-1) 1pt solid;\n  color: var(--sklearn-color-unfitted-level-1);\n}\n\n.sk-estimator-doc-link.fitted,\na:link.sk-estimator-doc-link.fitted,\na:visited.sk-estimator-doc-link.fitted {\n  /* fitted */\n  border: var(--sklearn-color-fitted-level-1) 1pt solid;\n  color: var(--sklearn-color-fitted-level-1);\n}\n\n/* On hover */\ndiv.sk-estimator:hover .sk-estimator-doc-link:hover,\n.sk-estimator-doc-link:hover,\ndiv.sk-label-container:hover .sk-estimator-doc-link:hover,\n.sk-estimator-doc-link:hover {\n  /* unfitted */\n  background-color: var(--sklearn-color-unfitted-level-3);\n  color: var(--sklearn-color-background);\n  text-decoration: none;\n}\n\ndiv.sk-estimator.fitted:hover .sk-estimator-doc-link.fitted:hover,\n.sk-estimator-doc-link.fitted:hover,\ndiv.sk-label-container:hover .sk-estimator-doc-link.fitted:hover,\n.sk-estimator-doc-link.fitted:hover {\n  /* fitted */\n  background-color: var(--sklearn-color-fitted-level-3);\n  color: var(--sklearn-color-background);\n  text-decoration: none;\n}\n\n/* Span, style for the box shown on hovering the info icon */\n.sk-estimator-doc-link span {\n  display: none;\n  z-index: 9999;\n  position: relative;\n  font-weight: normal;\n  right: .2ex;\n  padding: .5ex;\n  margin: .5ex;\n  width: min-content;\n  min-width: 20ex;\n  max-width: 50ex;\n  color: var(--sklearn-color-text);\n  box-shadow: 2pt 2pt 4pt #999;\n  /* unfitted */\n  background: var(--sklearn-color-unfitted-level-0);\n  border: .5pt solid var(--sklearn-color-unfitted-level-3);\n}\n\n.sk-estimator-doc-link.fitted span {\n  /* fitted */\n  background: var(--sklearn-color-fitted-level-0);\n  border: var(--sklearn-color-fitted-level-3);\n}\n\n.sk-estimator-doc-link:hover span {\n  display: block;\n}\n\n/* \"?\"-specific style due to the `<a>` HTML tag */\n\n#sk-container-id-1 a.estimator_doc_link {\n  float: right;\n  font-size: 1rem;\n  line-height: 1em;\n  font-family: monospace;\n  background-color: var(--sklearn-color-background);\n  border-radius: 1rem;\n  height: 1rem;\n  width: 1rem;\n  text-decoration: none;\n  /* unfitted */\n  color: var(--sklearn-color-unfitted-level-1);\n  border: var(--sklearn-color-unfitted-level-1) 1pt solid;\n}\n\n#sk-container-id-1 a.estimator_doc_link.fitted {\n  /* fitted */\n  border: var(--sklearn-color-fitted-level-1) 1pt solid;\n  color: var(--sklearn-color-fitted-level-1);\n}\n\n/* On hover */\n#sk-container-id-1 a.estimator_doc_link:hover {\n  /* unfitted */\n  background-color: var(--sklearn-color-unfitted-level-3);\n  color: var(--sklearn-color-background);\n  text-decoration: none;\n}\n\n#sk-container-id-1 a.estimator_doc_link.fitted:hover {\n  /* fitted */\n  background-color: var(--sklearn-color-fitted-level-3);\n}\n</style><div id=\"sk-container-id-1\" class=\"sk-top-container\"><div class=\"sk-text-repr-fallback\"><pre>LinearRegression()</pre><b>In a Jupyter environment, please rerun this cell to show the HTML representation or trust the notebook. <br />On GitHub, the HTML representation is unable to render, please try loading this page with nbviewer.org.</b></div><div class=\"sk-container\" hidden><div class=\"sk-item\"><div class=\"sk-estimator fitted sk-toggleable\"><input class=\"sk-toggleable__control sk-hidden--visually\" id=\"sk-estimator-id-1\" type=\"checkbox\" checked><label for=\"sk-estimator-id-1\" class=\"sk-toggleable__label fitted sk-toggleable__label-arrow fitted\">&nbsp;&nbsp;LinearRegression<a class=\"sk-estimator-doc-link fitted\" rel=\"noreferrer\" target=\"_blank\" href=\"https://scikit-learn.org/1.4/modules/generated/sklearn.linear_model.LinearRegression.html\">?<span>Documentation for LinearRegression</span></a><span class=\"sk-estimator-doc-link fitted\">i<span>Fitted</span></span></label><div class=\"sk-toggleable__content fitted\"><pre>LinearRegression()</pre></div> </div></div></div></div>"
          },
          "metadata": {}
        }
      ],
      "execution_count": 60
    },
    {
      "cell_type": "code",
      "source": "model.score(X,y)",
      "metadata": {
        "trusted": true
      },
      "outputs": [
        {
          "execution_count": 61,
          "output_type": "execute_result",
          "data": {
            "text/plain": "0.793872531296498"
          },
          "metadata": {}
        }
      ],
      "execution_count": 61
    },
    {
      "cell_type": "code",
      "source": "model.coef_",
      "metadata": {
        "trusted": true
      },
      "outputs": [
        {
          "execution_count": 62,
          "output_type": "execute_result",
          "data": {
            "text/plain": "array([ 2.31136423e-03, -1.64491717e-01,  9.48100603e-02,  1.65228818e-03,\n       -3.76298469e-01,  2.31513274e-03,  5.37987838e+11,  5.37987838e+11,\n        1.13056880e-01,  4.58039761e-01,  4.48783262e-04, -1.15091192e-01,\n        0.00000000e+00,  0.00000000e+00, -1.49869969e-01])"
          },
          "metadata": {}
        }
      ],
      "execution_count": 62
    },
    {
      "cell_type": "code",
      "source": "model.intercept_",
      "metadata": {
        "trusted": true
      },
      "outputs": [
        {
          "execution_count": 63,
          "output_type": "execute_result",
          "data": {
            "text/plain": "0.0065551829531076454"
          },
          "metadata": {}
        }
      ],
      "execution_count": 63
    },
    {
      "cell_type": "code",
      "source": "y_predict=pd.DataFrame(model.predict(X))",
      "metadata": {
        "trusted": true
      },
      "outputs": [],
      "execution_count": 64
    },
    {
      "cell_type": "code",
      "source": "y_predict",
      "metadata": {
        "trusted": true
      },
      "outputs": [
        {
          "execution_count": 65,
          "output_type": "execute_result",
          "data": {
            "text/plain": "              0\n0      0.608069\n1      1.100463\n2      0.811569\n3     -0.759250\n4      0.253651\n...         ...\n19787 -0.131473\n19788  0.300238\n19789 -0.005642\n19790  0.075464\n19791  0.099605\n\n[19792 rows x 1 columns]",
            "text/html": "<div>\n<style scoped>\n    .dataframe tbody tr th:only-of-type {\n        vertical-align: middle;\n    }\n\n    .dataframe tbody tr th {\n        vertical-align: top;\n    }\n\n    .dataframe thead th {\n        text-align: right;\n    }\n</style>\n<table border=\"1\" class=\"dataframe\">\n  <thead>\n    <tr style=\"text-align: right;\">\n      <th></th>\n      <th>0</th>\n    </tr>\n  </thead>\n  <tbody>\n    <tr>\n      <th>0</th>\n      <td>0.608069</td>\n    </tr>\n    <tr>\n      <th>1</th>\n      <td>1.100463</td>\n    </tr>\n    <tr>\n      <th>2</th>\n      <td>0.811569</td>\n    </tr>\n    <tr>\n      <th>3</th>\n      <td>-0.759250</td>\n    </tr>\n    <tr>\n      <th>4</th>\n      <td>0.253651</td>\n    </tr>\n    <tr>\n      <th>...</th>\n      <td>...</td>\n    </tr>\n    <tr>\n      <th>19787</th>\n      <td>-0.131473</td>\n    </tr>\n    <tr>\n      <th>19788</th>\n      <td>0.300238</td>\n    </tr>\n    <tr>\n      <th>19789</th>\n      <td>-0.005642</td>\n    </tr>\n    <tr>\n      <th>19790</th>\n      <td>0.075464</td>\n    </tr>\n    <tr>\n      <th>19791</th>\n      <td>0.099605</td>\n    </tr>\n  </tbody>\n</table>\n<p>19792 rows × 1 columns</p>\n</div>"
          },
          "metadata": {}
        }
      ],
      "execution_count": 65
    },
    {
      "cell_type": "code",
      "source": "from sklearn.metrics import mean_squared_error",
      "metadata": {
        "trusted": true
      },
      "outputs": [],
      "execution_count": 66
    },
    {
      "cell_type": "code",
      "source": "mse=mean_squared_error(y,y_predict)",
      "metadata": {
        "trusted": true
      },
      "outputs": [],
      "execution_count": 67
    },
    {
      "cell_type": "code",
      "source": "mse",
      "metadata": {
        "trusted": true
      },
      "outputs": [
        {
          "execution_count": 68,
          "output_type": "execute_result",
          "data": {
            "text/plain": "0.20612746870350196"
          },
          "metadata": {}
        }
      ],
      "execution_count": 68
    },
    {
      "cell_type": "code",
      "source": "from sklearn.metrics import mean_absolute_error\n",
      "metadata": {
        "trusted": true
      },
      "outputs": [],
      "execution_count": 69
    },
    {
      "cell_type": "code",
      "source": "mae=mean_absolute_error(y,y_predict)",
      "metadata": {
        "trusted": true
      },
      "outputs": [],
      "execution_count": 70
    },
    {
      "cell_type": "code",
      "source": "mae",
      "metadata": {
        "trusted": true
      },
      "outputs": [
        {
          "execution_count": 71,
          "output_type": "execute_result",
          "data": {
            "text/plain": "0.35882959191080965"
          },
          "metadata": {}
        }
      ],
      "execution_count": 71
    },
    {
      "cell_type": "code",
      "source": "df_test=pd.read_csv('Test_Data_Set (1).csv')",
      "metadata": {
        "trusted": true
      },
      "outputs": [],
      "execution_count": 72
    },
    {
      "cell_type": "code",
      "source": "df_test",
      "metadata": {
        "trusted": true
      },
      "outputs": [
        {
          "execution_count": 73,
          "output_type": "execute_result",
          "data": {
            "text/plain": "         Id    Maker    model    Location  Distance       Owner Type  \\\n0     11001    skoda  octavia      Mumbai   150000.0           First   \n1     11002    skoda    rapid  Coimbatore    29376.0           Third   \n2     11003    skoda  octavia  Coimbatore    30563.0          Second   \n3     11004     audi       q3       Delhi     8650.0  Fourth & Above   \n4     11005     audi       tt     Chennai     6400.0           Third   \n...     ...      ...      ...         ...        ...             ...   \n5610  16611    skoda  octavia      Mumbai   149976.0           First   \n5611  16612    skoda   superb   Ahmedabad   332000.0           First   \n5612  16613    skoda  octavia   Bangalore   230800.0          Second   \n5613  16614   nissan  qashqai      Jaipur    63480.0           Third   \n5614  16615  hyundai      i30      Jaipur    75000.0          Second   \n\n      manufacture_year  Age of car  engine_displacement  engine_power  \\\n0                 2007          12                 1595          75.0   \n1                 2014           5                 1598          77.0   \n2                 2014           5                 1968         110.0   \n3                 2015           4                 1968         110.0   \n4                 2015           4                 1984         169.0   \n...                ...         ...                  ...           ...   \n5610              2011           8                 1968         103.0   \n5611              2005          14                 1896          96.0   \n5612              2005          14                 1896          77.0   \n5613              2011           8                 1997         104.0   \n5614              2011           8                 1396          80.0   \n\n     body_type  Vroom Audit Rating transmission  door_count  seat_count  \\\n0          NaN                   5          man         4.0         5.0   \n1          NaN                   4          man         4.0         5.0   \n2          NaN                   5          man         5.0         5.0   \n3          NaN                   8         auto         4.0         5.0   \n4          NaN                   4         auto         2.0         NaN   \n...        ...                 ...          ...         ...         ...   \n5610       NaN                   8          man         4.0         5.0   \n5611       NaN                   6          man         4.0         5.0   \n5612       NaN                   7          man         5.0         5.0   \n5613       NaN                   5          man         4.0         7.0   \n5614       NaN                   4          man         NaN         NaN   \n\n     fuel_type  \n0       petrol  \n1       diesel  \n2       diesel  \n3       diesel  \n4       petrol  \n...        ...  \n5610    diesel  \n5611    diesel  \n5612    diesel  \n5613    petrol  \n5614    petrol  \n\n[5615 rows x 16 columns]",
            "text/html": "<div>\n<style scoped>\n    .dataframe tbody tr th:only-of-type {\n        vertical-align: middle;\n    }\n\n    .dataframe tbody tr th {\n        vertical-align: top;\n    }\n\n    .dataframe thead th {\n        text-align: right;\n    }\n</style>\n<table border=\"1\" class=\"dataframe\">\n  <thead>\n    <tr style=\"text-align: right;\">\n      <th></th>\n      <th>Id</th>\n      <th>Maker</th>\n      <th>model</th>\n      <th>Location</th>\n      <th>Distance</th>\n      <th>Owner Type</th>\n      <th>manufacture_year</th>\n      <th>Age of car</th>\n      <th>engine_displacement</th>\n      <th>engine_power</th>\n      <th>body_type</th>\n      <th>Vroom Audit Rating</th>\n      <th>transmission</th>\n      <th>door_count</th>\n      <th>seat_count</th>\n      <th>fuel_type</th>\n    </tr>\n  </thead>\n  <tbody>\n    <tr>\n      <th>0</th>\n      <td>11001</td>\n      <td>skoda</td>\n      <td>octavia</td>\n      <td>Mumbai</td>\n      <td>150000.0</td>\n      <td>First</td>\n      <td>2007</td>\n      <td>12</td>\n      <td>1595</td>\n      <td>75.0</td>\n      <td>NaN</td>\n      <td>5</td>\n      <td>man</td>\n      <td>4.0</td>\n      <td>5.0</td>\n      <td>petrol</td>\n    </tr>\n    <tr>\n      <th>1</th>\n      <td>11002</td>\n      <td>skoda</td>\n      <td>rapid</td>\n      <td>Coimbatore</td>\n      <td>29376.0</td>\n      <td>Third</td>\n      <td>2014</td>\n      <td>5</td>\n      <td>1598</td>\n      <td>77.0</td>\n      <td>NaN</td>\n      <td>4</td>\n      <td>man</td>\n      <td>4.0</td>\n      <td>5.0</td>\n      <td>diesel</td>\n    </tr>\n    <tr>\n      <th>2</th>\n      <td>11003</td>\n      <td>skoda</td>\n      <td>octavia</td>\n      <td>Coimbatore</td>\n      <td>30563.0</td>\n      <td>Second</td>\n      <td>2014</td>\n      <td>5</td>\n      <td>1968</td>\n      <td>110.0</td>\n      <td>NaN</td>\n      <td>5</td>\n      <td>man</td>\n      <td>5.0</td>\n      <td>5.0</td>\n      <td>diesel</td>\n    </tr>\n    <tr>\n      <th>3</th>\n      <td>11004</td>\n      <td>audi</td>\n      <td>q3</td>\n      <td>Delhi</td>\n      <td>8650.0</td>\n      <td>Fourth &amp; Above</td>\n      <td>2015</td>\n      <td>4</td>\n      <td>1968</td>\n      <td>110.0</td>\n      <td>NaN</td>\n      <td>8</td>\n      <td>auto</td>\n      <td>4.0</td>\n      <td>5.0</td>\n      <td>diesel</td>\n    </tr>\n    <tr>\n      <th>4</th>\n      <td>11005</td>\n      <td>audi</td>\n      <td>tt</td>\n      <td>Chennai</td>\n      <td>6400.0</td>\n      <td>Third</td>\n      <td>2015</td>\n      <td>4</td>\n      <td>1984</td>\n      <td>169.0</td>\n      <td>NaN</td>\n      <td>4</td>\n      <td>auto</td>\n      <td>2.0</td>\n      <td>NaN</td>\n      <td>petrol</td>\n    </tr>\n    <tr>\n      <th>...</th>\n      <td>...</td>\n      <td>...</td>\n      <td>...</td>\n      <td>...</td>\n      <td>...</td>\n      <td>...</td>\n      <td>...</td>\n      <td>...</td>\n      <td>...</td>\n      <td>...</td>\n      <td>...</td>\n      <td>...</td>\n      <td>...</td>\n      <td>...</td>\n      <td>...</td>\n      <td>...</td>\n    </tr>\n    <tr>\n      <th>5610</th>\n      <td>16611</td>\n      <td>skoda</td>\n      <td>octavia</td>\n      <td>Mumbai</td>\n      <td>149976.0</td>\n      <td>First</td>\n      <td>2011</td>\n      <td>8</td>\n      <td>1968</td>\n      <td>103.0</td>\n      <td>NaN</td>\n      <td>8</td>\n      <td>man</td>\n      <td>4.0</td>\n      <td>5.0</td>\n      <td>diesel</td>\n    </tr>\n    <tr>\n      <th>5611</th>\n      <td>16612</td>\n      <td>skoda</td>\n      <td>superb</td>\n      <td>Ahmedabad</td>\n      <td>332000.0</td>\n      <td>First</td>\n      <td>2005</td>\n      <td>14</td>\n      <td>1896</td>\n      <td>96.0</td>\n      <td>NaN</td>\n      <td>6</td>\n      <td>man</td>\n      <td>4.0</td>\n      <td>5.0</td>\n      <td>diesel</td>\n    </tr>\n    <tr>\n      <th>5612</th>\n      <td>16613</td>\n      <td>skoda</td>\n      <td>octavia</td>\n      <td>Bangalore</td>\n      <td>230800.0</td>\n      <td>Second</td>\n      <td>2005</td>\n      <td>14</td>\n      <td>1896</td>\n      <td>77.0</td>\n      <td>NaN</td>\n      <td>7</td>\n      <td>man</td>\n      <td>5.0</td>\n      <td>5.0</td>\n      <td>diesel</td>\n    </tr>\n    <tr>\n      <th>5613</th>\n      <td>16614</td>\n      <td>nissan</td>\n      <td>qashqai</td>\n      <td>Jaipur</td>\n      <td>63480.0</td>\n      <td>Third</td>\n      <td>2011</td>\n      <td>8</td>\n      <td>1997</td>\n      <td>104.0</td>\n      <td>NaN</td>\n      <td>5</td>\n      <td>man</td>\n      <td>4.0</td>\n      <td>7.0</td>\n      <td>petrol</td>\n    </tr>\n    <tr>\n      <th>5614</th>\n      <td>16615</td>\n      <td>hyundai</td>\n      <td>i30</td>\n      <td>Jaipur</td>\n      <td>75000.0</td>\n      <td>Second</td>\n      <td>2011</td>\n      <td>8</td>\n      <td>1396</td>\n      <td>80.0</td>\n      <td>NaN</td>\n      <td>4</td>\n      <td>man</td>\n      <td>NaN</td>\n      <td>NaN</td>\n      <td>petrol</td>\n    </tr>\n  </tbody>\n</table>\n<p>5615 rows × 16 columns</p>\n</div>"
          },
          "metadata": {}
        }
      ],
      "execution_count": 73
    },
    {
      "cell_type": "code",
      "source": "df_test.isnull().sum()",
      "metadata": {
        "trusted": true
      },
      "outputs": [
        {
          "execution_count": 74,
          "output_type": "execute_result",
          "data": {
            "text/plain": "Id                        0\nMaker                     0\nmodel                     0\nLocation                  0\nDistance                128\nOwner Type                0\nmanufacture_year          0\nAge of car                0\nengine_displacement       0\nengine_power            168\nbody_type              5193\nVroom Audit Rating        0\ntransmission              0\ndoor_count              806\nseat_count              891\nfuel_type                 0\ndtype: int64"
          },
          "metadata": {}
        }
      ],
      "execution_count": 74
    },
    {
      "cell_type": "code",
      "source": "df_test.columns",
      "metadata": {
        "trusted": true
      },
      "outputs": [
        {
          "execution_count": 75,
          "output_type": "execute_result",
          "data": {
            "text/plain": "Index(['Id', 'Maker', 'model', 'Location', 'Distance ', 'Owner Type',\n       'manufacture_year', 'Age of car', 'engine_displacement', 'engine_power',\n       'body_type', 'Vroom Audit Rating', 'transmission', 'door_count',\n       'seat_count', 'fuel_type'],\n      dtype='object')"
          },
          "metadata": {}
        }
      ],
      "execution_count": 75
    },
    {
      "cell_type": "code",
      "source": "df_test.drop(columns='body_type',inplace=True)",
      "metadata": {
        "trusted": true
      },
      "outputs": [],
      "execution_count": 76
    },
    {
      "cell_type": "code",
      "source": "df_test.columns",
      "metadata": {
        "trusted": true
      },
      "outputs": [
        {
          "execution_count": 77,
          "output_type": "execute_result",
          "data": {
            "text/plain": "Index(['Id', 'Maker', 'model', 'Location', 'Distance ', 'Owner Type',\n       'manufacture_year', 'Age of car', 'engine_displacement', 'engine_power',\n       'Vroom Audit Rating', 'transmission', 'door_count', 'seat_count',\n       'fuel_type'],\n      dtype='object')"
          },
          "metadata": {}
        }
      ],
      "execution_count": 77
    },
    {
      "cell_type": "code",
      "source": "df_test['Distance '].mean()",
      "metadata": {
        "trusted": true
      },
      "outputs": [
        {
          "execution_count": 78,
          "output_type": "execute_result",
          "data": {
            "text/plain": "95890.0885729907"
          },
          "metadata": {}
        }
      ],
      "execution_count": 78
    },
    {
      "cell_type": "code",
      "source": "df_test['Distance '].median()",
      "metadata": {
        "trusted": true
      },
      "outputs": [
        {
          "execution_count": 79,
          "output_type": "execute_result",
          "data": {
            "text/plain": "64000.0"
          },
          "metadata": {}
        }
      ],
      "execution_count": 79
    },
    {
      "cell_type": "code",
      "source": "df_test['Distance '].fillna(df['Distance '].median(),inplace=True)",
      "metadata": {
        "trusted": true
      },
      "outputs": [
        {
          "name": "stderr",
          "text": "<ipython-input-80-a2276fb5c23c>:1: FutureWarning: A value is trying to be set on a copy of a DataFrame or Series through chained assignment using an inplace method.\nThe behavior will change in pandas 3.0. This inplace method will never work because the intermediate object on which we are setting values always behaves as a copy.\n\nFor example, when doing 'df[col].method(value, inplace=True)', try using 'df.method({col: value}, inplace=True)' or df[col] = df[col].method(value) instead, to perform the operation inplace on the original object.\n\n\n  df_test['Distance '].fillna(df['Distance '].median(),inplace=True)\n",
          "output_type": "stream"
        }
      ],
      "execution_count": 80
    },
    {
      "cell_type": "code",
      "source": "df_test['engine_power'].mean()",
      "metadata": {
        "trusted": true
      },
      "outputs": [
        {
          "execution_count": 81,
          "output_type": "execute_result",
          "data": {
            "text/plain": "99.47457315953736"
          },
          "metadata": {}
        }
      ],
      "execution_count": 81
    },
    {
      "cell_type": "code",
      "source": "df_test['engine_power'].median()",
      "metadata": {
        "trusted": true
      },
      "outputs": [
        {
          "execution_count": 82,
          "output_type": "execute_result",
          "data": {
            "text/plain": "88.0"
          },
          "metadata": {}
        }
      ],
      "execution_count": 82
    },
    {
      "cell_type": "code",
      "source": "df_test['engine_power'].fillna(df['engine_power'].median(),inplace=True)",
      "metadata": {
        "trusted": true
      },
      "outputs": [
        {
          "name": "stderr",
          "text": "<ipython-input-83-3566efd53034>:1: FutureWarning: A value is trying to be set on a copy of a DataFrame or Series through chained assignment using an inplace method.\nThe behavior will change in pandas 3.0. This inplace method will never work because the intermediate object on which we are setting values always behaves as a copy.\n\nFor example, when doing 'df[col].method(value, inplace=True)', try using 'df.method({col: value}, inplace=True)' or df[col] = df[col].method(value) instead, to perform the operation inplace on the original object.\n\n\n  df_test['engine_power'].fillna(df['engine_power'].median(),inplace=True)\n",
          "output_type": "stream"
        }
      ],
      "execution_count": 83
    },
    {
      "cell_type": "code",
      "source": "df_test['door_count'].mean()",
      "metadata": {
        "trusted": true
      },
      "outputs": [
        {
          "execution_count": 84,
          "output_type": "execute_result",
          "data": {
            "text/plain": "3.9783738823040133"
          },
          "metadata": {}
        }
      ],
      "execution_count": 84
    },
    {
      "cell_type": "code",
      "source": "df_test['door_count'].median()",
      "metadata": {
        "trusted": true
      },
      "outputs": [
        {
          "execution_count": 85,
          "output_type": "execute_result",
          "data": {
            "text/plain": "4.0"
          },
          "metadata": {}
        }
      ],
      "execution_count": 85
    },
    {
      "cell_type": "code",
      "source": "df_test['door_count'].fillna(df_test['door_count'].mean(),inplace=True)",
      "metadata": {
        "trusted": true
      },
      "outputs": [
        {
          "name": "stderr",
          "text": "<ipython-input-86-a2f54311a93e>:1: FutureWarning: A value is trying to be set on a copy of a DataFrame or Series through chained assignment using an inplace method.\nThe behavior will change in pandas 3.0. This inplace method will never work because the intermediate object on which we are setting values always behaves as a copy.\n\nFor example, when doing 'df[col].method(value, inplace=True)', try using 'df.method({col: value}, inplace=True)' or df[col] = df[col].method(value) instead, to perform the operation inplace on the original object.\n\n\n  df_test['door_count'].fillna(df_test['door_count'].mean(),inplace=True)\n",
          "output_type": "stream"
        }
      ],
      "execution_count": 86
    },
    {
      "cell_type": "code",
      "source": "df_test['seat_count'].mean()",
      "metadata": {
        "trusted": true
      },
      "outputs": [
        {
          "execution_count": 87,
          "output_type": "execute_result",
          "data": {
            "text/plain": "4.884843353090601"
          },
          "metadata": {}
        }
      ],
      "execution_count": 87
    },
    {
      "cell_type": "code",
      "source": "df_test['seat_count'].fillna(df_test['door_count'].mean(),inplace=True)",
      "metadata": {
        "trusted": true
      },
      "outputs": [
        {
          "name": "stderr",
          "text": "<ipython-input-88-9ad91a7e9104>:1: FutureWarning: A value is trying to be set on a copy of a DataFrame or Series through chained assignment using an inplace method.\nThe behavior will change in pandas 3.0. This inplace method will never work because the intermediate object on which we are setting values always behaves as a copy.\n\nFor example, when doing 'df[col].method(value, inplace=True)', try using 'df.method({col: value}, inplace=True)' or df[col] = df[col].method(value) instead, to perform the operation inplace on the original object.\n\n\n  df_test['seat_count'].fillna(df_test['door_count'].mean(),inplace=True)\n",
          "output_type": "stream"
        }
      ],
      "execution_count": 88
    },
    {
      "cell_type": "code",
      "source": "df_test.isnull().sum()",
      "metadata": {
        "trusted": true
      },
      "outputs": [
        {
          "execution_count": 89,
          "output_type": "execute_result",
          "data": {
            "text/plain": "Id                     0\nMaker                  0\nmodel                  0\nLocation               0\nDistance               0\nOwner Type             0\nmanufacture_year       0\nAge of car             0\nengine_displacement    0\nengine_power           0\nVroom Audit Rating     0\ntransmission           0\ndoor_count             0\nseat_count             0\nfuel_type              0\ndtype: int64"
          },
          "metadata": {}
        }
      ],
      "execution_count": 89
    },
    {
      "cell_type": "code",
      "source": "df_test.duplicated().sum()",
      "metadata": {
        "trusted": true
      },
      "outputs": [
        {
          "execution_count": 90,
          "output_type": "execute_result",
          "data": {
            "text/plain": "0"
          },
          "metadata": {}
        }
      ],
      "execution_count": 90
    },
    {
      "cell_type": "code",
      "source": "df_test.dtypes",
      "metadata": {
        "trusted": true
      },
      "outputs": [
        {
          "execution_count": 91,
          "output_type": "execute_result",
          "data": {
            "text/plain": "Id                       int64\nMaker                   object\nmodel                   object\nLocation                object\nDistance               float64\nOwner Type              object\nmanufacture_year         int64\nAge of car               int64\nengine_displacement      int64\nengine_power           float64\nVroom Audit Rating       int64\ntransmission            object\ndoor_count             float64\nseat_count             float64\nfuel_type               object\ndtype: object"
          },
          "metadata": {}
        }
      ],
      "execution_count": 91
    },
    {
      "cell_type": "code",
      "source": "from sklearn.preprocessing import LabelEncoder\nle=LabelEncoder()",
      "metadata": {
        "trusted": true
      },
      "outputs": [],
      "execution_count": 92
    },
    {
      "cell_type": "code",
      "source": "df_test['Maker']=le.fit_transform(df_test['Maker'])",
      "metadata": {
        "trusted": true
      },
      "outputs": [],
      "execution_count": 93
    },
    {
      "cell_type": "code",
      "source": "df_test['model']=le.fit_transform(df_test['model'])",
      "metadata": {
        "trusted": true
      },
      "outputs": [],
      "execution_count": 94
    },
    {
      "cell_type": "code",
      "source": "df_test['Location']=le.fit_transform(df_test['Location'])",
      "metadata": {
        "trusted": true
      },
      "outputs": [],
      "execution_count": 95
    },
    {
      "cell_type": "code",
      "source": "df_test['Owner Type']=le.fit_transform(df_test['Owner Type'])",
      "metadata": {
        "trusted": true
      },
      "outputs": [],
      "execution_count": 96
    },
    {
      "cell_type": "code",
      "source": "df_test['transmission']=le.fit_transform(df_test['transmission'])",
      "metadata": {
        "trusted": true
      },
      "outputs": [],
      "execution_count": 97
    },
    {
      "cell_type": "code",
      "source": "df_test['fuel_type']=le.fit_transform(df_test['fuel_type'])",
      "metadata": {
        "trusted": true
      },
      "outputs": [],
      "execution_count": 98
    },
    {
      "cell_type": "code",
      "source": "df_test.dtypes",
      "metadata": {
        "trusted": true
      },
      "outputs": [
        {
          "execution_count": 99,
          "output_type": "execute_result",
          "data": {
            "text/plain": "Id                       int64\nMaker                    int32\nmodel                    int32\nLocation                 int32\nDistance               float64\nOwner Type               int32\nmanufacture_year         int64\nAge of car               int64\nengine_displacement      int64\nengine_power           float64\nVroom Audit Rating       int64\ntransmission             int32\ndoor_count             float64\nseat_count             float64\nfuel_type                int32\ndtype: object"
          },
          "metadata": {}
        }
      ],
      "execution_count": 99
    },
    {
      "cell_type": "code",
      "source": "import matplotlib.pyplot as plt",
      "metadata": {
        "trusted": true
      },
      "outputs": [],
      "execution_count": 100
    },
    {
      "cell_type": "code",
      "source": "df_test.boxplot()\nplt.show()",
      "metadata": {
        "trusted": true
      },
      "outputs": [
        {
          "output_type": "display_data",
          "data": {
            "text/plain": "<Figure size 640x480 with 1 Axes>",
            "image/png": "[encoded data removed]"
          },
          "metadata": {}
        }
      ],
      "execution_count": 101
    },
    {
      "cell_type": "code",
      "source": "z=(df_test-df_test.mean())/df_test.std()",
      "metadata": {
        "trusted": true
      },
      "outputs": [],
      "execution_count": 102
    },
    {
      "cell_type": "code",
      "source": "z",
      "metadata": {
        "trusted": true
      },
      "outputs": [
        {
          "execution_count": 103,
          "output_type": "execute_result",
          "data": {
            "text/plain": "            Id     Maker     model  Location  Distance   Owner Type  \\\n0    -1.731588  0.657003 -0.509377  1.277965   0.179475   -1.302147   \n1    -1.730971  0.657003  0.469122 -0.621812  -0.215564    1.345369   \n2    -1.730354  0.657003 -0.509377 -0.621812  -0.211676    0.462863   \n3    -1.729738 -1.713357 -0.183211 -0.305182  -0.283441   -0.419642   \n4    -1.729121 -1.713357  0.958371 -0.938441  -0.290809    1.345369   \n...        ...       ...       ...       ...        ...         ...   \n5610  1.729121  0.657003 -0.509377  1.277965   0.179397   -1.302147   \n5611  1.729738  0.657003  0.795288 -1.571700   0.775518   -1.302147   \n5612  1.730354  0.657003 -0.509377 -1.255071   0.444092    0.462863   \n5613  1.730971  0.261943  0.306039  0.328077  -0.103874    1.345369   \n5614  1.731588 -0.528177 -0.998627  0.328077  -0.066147    0.462863   \n\n      manufacture_year  Age of car  engine_displacement  engine_power  \\\n0            -0.736224    0.736224            -0.200189     -0.543264   \n1             0.741450   -0.741450            -0.198050     -0.498625   \n2             0.741450   -0.741450             0.065695      0.237907   \n3             0.952546   -0.952546             0.065695      0.237907   \n4             0.952546   -0.952546             0.077100      1.554737   \n...                ...         ...                  ...           ...   \n5610          0.108161   -0.108161             0.065695      0.081673   \n5611         -1.158416    1.158416             0.014371     -0.074561   \n5612         -1.158416    1.158416             0.014371     -0.498625   \n5613          0.108161   -0.108161             0.086366      0.103992   \n5614          0.108161   -0.108161            -0.342041     -0.431668   \n\n      Vroom Audit Rating  transmission    door_count  seat_count  fuel_type  \n0              -0.711481      0.665022  3.228018e-02    0.425571   1.027172  \n1              -1.426273      0.665022  3.228018e-02    0.425571  -0.973373  \n2              -0.711481      0.665022  1.524928e+00    0.425571  -0.973373  \n3               1.432892     -1.503443  3.228018e-02    0.425571  -0.973373  \n4              -1.426273     -1.503443 -2.953016e+00   -1.253114   1.027172  \n...                  ...           ...           ...         ...        ...  \n5610            1.432892      0.665022  3.228018e-02    0.425571  -0.973373  \n5611            0.003310      0.665022  3.228018e-02    0.425571  -0.973373  \n5612            0.718101      0.665022  1.524928e+00    0.425571  -0.973373  \n5613           -0.711481      0.665022  3.228018e-02    3.711872   1.027172  \n5614           -1.426273      0.665022  6.628689e-16   -1.253114   1.027172  \n\n[5615 rows x 15 columns]",
            "text/html": "<div>\n<style scoped>\n    .dataframe tbody tr th:only-of-type {\n        vertical-align: middle;\n    }\n\n    .dataframe tbody tr th {\n        vertical-align: top;\n    }\n\n    .dataframe thead th {\n        text-align: right;\n    }\n</style>\n<table border=\"1\" class=\"dataframe\">\n  <thead>\n    <tr style=\"text-align: right;\">\n      <th></th>\n      <th>Id</th>\n      <th>Maker</th>\n      <th>model</th>\n      <th>Location</th>\n      <th>Distance</th>\n      <th>Owner Type</th>\n      <th>manufacture_year</th>\n      <th>Age of car</th>\n      <th>engine_displacement</th>\n      <th>engine_power</th>\n      <th>Vroom Audit Rating</th>\n      <th>transmission</th>\n      <th>door_count</th>\n      <th>seat_count</th>\n      <th>fuel_type</th>\n    </tr>\n  </thead>\n  <tbody>\n    <tr>\n      <th>0</th>\n      <td>-1.731588</td>\n      <td>0.657003</td>\n      <td>-0.509377</td>\n      <td>1.277965</td>\n      <td>0.179475</td>\n      <td>-1.302147</td>\n      <td>-0.736224</td>\n      <td>0.736224</td>\n      <td>-0.200189</td>\n      <td>-0.543264</td>\n      <td>-0.711481</td>\n      <td>0.665022</td>\n      <td>3.228018e-02</td>\n      <td>0.425571</td>\n      <td>1.027172</td>\n    </tr>\n    <tr>\n      <th>1</th>\n      <td>-1.730971</td>\n      <td>0.657003</td>\n      <td>0.469122</td>\n      <td>-0.621812</td>\n      <td>-0.215564</td>\n      <td>1.345369</td>\n      <td>0.741450</td>\n      <td>-0.741450</td>\n      <td>-0.198050</td>\n      <td>-0.498625</td>\n      <td>-1.426273</td>\n      <td>0.665022</td>\n      <td>3.228018e-02</td>\n      <td>0.425571</td>\n      <td>-0.973373</td>\n    </tr>\n    <tr>\n      <th>2</th>\n      <td>-1.730354</td>\n      <td>0.657003</td>\n      <td>-0.509377</td>\n      <td>-0.621812</td>\n      <td>-0.211676</td>\n      <td>0.462863</td>\n      <td>0.741450</td>\n      <td>-0.741450</td>\n      <td>0.065695</td>\n      <td>0.237907</td>\n      <td>-0.711481</td>\n      <td>0.665022</td>\n      <td>1.524928e+00</td>\n      <td>0.425571</td>\n      <td>-0.973373</td>\n    </tr>\n    <tr>\n      <th>3</th>\n      <td>-1.729738</td>\n      <td>-1.713357</td>\n      <td>-0.183211</td>\n      <td>-0.305182</td>\n      <td>-0.283441</td>\n      <td>-0.419642</td>\n      <td>0.952546</td>\n      <td>-0.952546</td>\n      <td>0.065695</td>\n      <td>0.237907</td>\n      <td>1.432892</td>\n      <td>-1.503443</td>\n      <td>3.228018e-02</td>\n      <td>0.425571</td>\n      <td>-0.973373</td>\n    </tr>\n    <tr>\n      <th>4</th>\n      <td>-1.729121</td>\n      <td>-1.713357</td>\n      <td>0.958371</td>\n      <td>-0.938441</td>\n      <td>-0.290809</td>\n      <td>1.345369</td>\n      <td>0.952546</td>\n      <td>-0.952546</td>\n      <td>0.077100</td>\n      <td>1.554737</td>\n      <td>-1.426273</td>\n      <td>-1.503443</td>\n      <td>-2.953016e+00</td>\n      <td>-1.253114</td>\n      <td>1.027172</td>\n    </tr>\n    <tr>\n      <th>...</th>\n      <td>...</td>\n      <td>...</td>\n      <td>...</td>\n      <td>...</td>\n      <td>...</td>\n      <td>...</td>\n      <td>...</td>\n      <td>...</td>\n      <td>...</td>\n      <td>...</td>\n      <td>...</td>\n      <td>...</td>\n      <td>...</td>\n      <td>...</td>\n      <td>...</td>\n    </tr>\n    <tr>\n      <th>5610</th>\n      <td>1.729121</td>\n      <td>0.657003</td>\n      <td>-0.509377</td>\n      <td>1.277965</td>\n      <td>0.179397</td>\n      <td>-1.302147</td>\n      <td>0.108161</td>\n      <td>-0.108161</td>\n      <td>0.065695</td>\n      <td>0.081673</td>\n      <td>1.432892</td>\n      <td>0.665022</td>\n      <td>3.228018e-02</td>\n      <td>0.425571</td>\n      <td>-0.973373</td>\n    </tr>\n    <tr>\n      <th>5611</th>\n      <td>1.729738</td>\n      <td>0.657003</td>\n      <td>0.795288</td>\n      <td>-1.571700</td>\n      <td>0.775518</td>\n      <td>-1.302147</td>\n      <td>-1.158416</td>\n      <td>1.158416</td>\n      <td>0.014371</td>\n      <td>-0.074561</td>\n      <td>0.003310</td>\n      <td>0.665022</td>\n      <td>3.228018e-02</td>\n      <td>0.425571</td>\n      <td>-0.973373</td>\n    </tr>\n    <tr>\n      <th>5612</th>\n      <td>1.730354</td>\n      <td>0.657003</td>\n      <td>-0.509377</td>\n      <td>-1.255071</td>\n      <td>0.444092</td>\n      <td>0.462863</td>\n      <td>-1.158416</td>\n      <td>1.158416</td>\n      <td>0.014371</td>\n      <td>-0.498625</td>\n      <td>0.718101</td>\n      <td>0.665022</td>\n      <td>1.524928e+00</td>\n      <td>0.425571</td>\n      <td>-0.973373</td>\n    </tr>\n    <tr>\n      <th>5613</th>\n      <td>1.730971</td>\n      <td>0.261943</td>\n      <td>0.306039</td>\n      <td>0.328077</td>\n      <td>-0.103874</td>\n      <td>1.345369</td>\n      <td>0.108161</td>\n      <td>-0.108161</td>\n      <td>0.086366</td>\n      <td>0.103992</td>\n      <td>-0.711481</td>\n      <td>0.665022</td>\n      <td>3.228018e-02</td>\n      <td>3.711872</td>\n      <td>1.027172</td>\n    </tr>\n    <tr>\n      <th>5614</th>\n      <td>1.731588</td>\n      <td>-0.528177</td>\n      <td>-0.998627</td>\n      <td>0.328077</td>\n      <td>-0.066147</td>\n      <td>0.462863</td>\n      <td>0.108161</td>\n      <td>-0.108161</td>\n      <td>-0.342041</td>\n      <td>-0.431668</td>\n      <td>-1.426273</td>\n      <td>0.665022</td>\n      <td>6.628689e-16</td>\n      <td>-1.253114</td>\n      <td>1.027172</td>\n    </tr>\n  </tbody>\n</table>\n<p>5615 rows × 15 columns</p>\n</div>"
          },
          "metadata": {}
        }
      ],
      "execution_count": 103
    },
    {
      "cell_type": "code",
      "source": "df4=df_test[(z>-2)&(z<2)]",
      "metadata": {
        "trusted": true
      },
      "outputs": [],
      "execution_count": 104
    },
    {
      "cell_type": "code",
      "source": "df4.boxplot()\nplt.show()",
      "metadata": {
        "trusted": true
      },
      "outputs": [
        {
          "output_type": "display_data",
          "data": {
            "text/plain": "<Figure size 640x480 with 1 Axes>",
            "image/png": "[encoded data removed]"
          },
          "metadata": {}
        }
      ],
      "execution_count": 105
    },
    {
      "cell_type": "code",
      "source": "z=(df4-df4.mean())/df4.std()",
      "metadata": {
        "trusted": true
      },
      "outputs": [],
      "execution_count": null
    },
    {
      "cell_type": "code",
      "source": "z",
      "metadata": {
        "trusted": true
      },
      "outputs": [],
      "execution_count": null
    },
    {
      "cell_type": "code",
      "source": "df5=df4[(z>-2)&(z<2)]",
      "metadata": {
        "trusted": true
      },
      "outputs": [],
      "execution_count": null
    },
    {
      "cell_type": "code",
      "source": "df5.boxplot()\nplt.show()",
      "metadata": {
        "trusted": true
      },
      "outputs": [],
      "execution_count": null
    },
    {
      "cell_type": "code",
      "source": "z=(df5-df5.mean())/df5.std()",
      "metadata": {
        "trusted": true
      },
      "outputs": [],
      "execution_count": null
    },
    {
      "cell_type": "code",
      "source": "z",
      "metadata": {
        "trusted": true
      },
      "outputs": [],
      "execution_count": null
    },
    {
      "cell_type": "code",
      "source": "df6=df5[(z>-2)&(z<2)]",
      "metadata": {
        "trusted": true
      },
      "outputs": [],
      "execution_count": null
    },
    {
      "cell_type": "code",
      "source": "df6.boxplot()\nplt.show()",
      "metadata": {
        "trusted": true
      },
      "outputs": [],
      "execution_count": null
    },
    {
      "cell_type": "code",
      "source": "df5.isnull().sum()",
      "metadata": {
        "trusted": true
      },
      "outputs": [],
      "execution_count": null
    },
    {
      "cell_type": "code",
      "source": "df5.dropna(inplace=True)",
      "metadata": {
        "trusted": true
      },
      "outputs": [],
      "execution_count": null
    },
    {
      "cell_type": "code",
      "source": "df5.isnull().sum()",
      "metadata": {
        "trusted": true
      },
      "outputs": [],
      "execution_count": null
    },
    {
      "cell_type": "code",
      "source": "df5.shape",
      "metadata": {
        "trusted": true
      },
      "outputs": [],
      "execution_count": null
    },
    {
      "cell_type": "code",
      "source": "from sklearn.preprocessing import StandardScaler\nss=StandardScaler()",
      "metadata": {
        "trusted": true
      },
      "outputs": [],
      "execution_count": null
    },
    {
      "cell_type": "code",
      "source": "data_test=pd.DataFrame(ss.fit_transform(df5),columns=df5.columns)",
      "metadata": {
        "trusted": true
      },
      "outputs": [],
      "execution_count": null
    },
    {
      "cell_type": "code",
      "source": "data_test",
      "metadata": {
        "trusted": true
      },
      "outputs": [],
      "execution_count": null
    },
    {
      "cell_type": "code",
      "source": "data_test.columns",
      "metadata": {
        "trusted": true
      },
      "outputs": [],
      "execution_count": null
    },
    {
      "cell_type": "code",
      "source": "from sklearn.linear_model import LinearRegression\nmodel=LinearRegression()",
      "metadata": {
        "trusted": true
      },
      "outputs": [],
      "execution_count": null
    },
    {
      "cell_type": "code",
      "source": "model.fit(X,y)",
      "metadata": {
        "trusted": true
      },
      "outputs": [],
      "execution_count": null
    },
    {
      "cell_type": "code",
      "source": "X_test=data_test[['Id', 'Maker', 'model', 'Location', 'Distance ', 'Owner Type',\n       'manufacture_year', 'Age of car', 'engine_displacement', 'engine_power',\n       'Vroom Audit Rating', 'transmission', 'door_count', 'seat_count',\n       'fuel_type']]",
      "metadata": {
        "trusted": true
      },
      "outputs": [],
      "execution_count": null
    },
    {
      "cell_type": "code",
      "source": "y_test_pred=pd.DataFrame(model.predict(X_test))",
      "metadata": {
        "trusted": true
      },
      "outputs": [],
      "execution_count": null
    },
    {
      "cell_type": "code",
      "source": "y_test_pred.shape",
      "metadata": {
        "trusted": true
      },
      "outputs": [],
      "execution_count": null
    },
    {
      "cell_type": "code",
      "source": "final=pd.concat([data_test['Id'],y_test_pred],axis=1)",
      "metadata": {
        "trusted": true
      },
      "outputs": [],
      "execution_count": null
    },
    {
      "cell_type": "code",
      "source": "final",
      "metadata": {
        "trusted": true
      },
      "outputs": [],
      "execution_count": null
    },
    {
      "cell_type": "code",
      "source": "",
      "metadata": {
        "trusted": true
      },
      "outputs": [],
      "execution_count": null
    },
    {
      "cell_type": "code",
      "source": "",
      "metadata": {
        "trusted": true
      },
      "outputs": [],
      "execution_count": null
    },
    {
      "cell_type": "code",
      "source": "",
      "metadata": {
        "trusted": true
      },
      "outputs": [],
      "execution_count": null
    }
  ]
}